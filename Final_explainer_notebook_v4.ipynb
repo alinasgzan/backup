{
 "cells": [
  {
   "cell_type": "markdown",
   "metadata": {},
   "source": [
    "\n",
    "<h1 align=\"center\">Happiness analysis in Danish Stack Overflow community</h1> \n",
    "<h2 align=\"center\">Assignment B</h2> \n",
    "<h5 align=\"center\">Handin 7/12-2016</h5> \n"
   ]
  },
  {
   "cell_type": "code",
   "execution_count": 1,
   "metadata": {
    "collapsed": false
   },
   "outputs": [],
   "source": [
    "#first the libraries used in the code\n",
    "#download and process the data\n",
    "import urllib2, requests, json\n",
    "import csv,io\n",
    "import re\n",
    "from TwitterSearch import *\n",
    "from bs4 import BeautifulSoup\n",
    "\n",
    "#text analysis\n",
    "import nltk\n",
    "import csv, requests, json\n",
    "import re\n",
    "import io\n",
    "import pickle\n",
    "import numpy as np\n",
    "import os\n",
    "from guess_language import guessLanguage\n",
    "from __future__ import division\n",
    "import matplotlib.pyplot as plt\n",
    "%matplotlib inline\n",
    "import math\n",
    "import matplotlib.cm as cm\n",
    "\n",
    "#network analysis\n",
    "import networkx as nx\n",
    "import matplotlib.pyplot as plt\n",
    "import plotly.plotly as py\n",
    "import plotly.graph_objs as go\n",
    "import numpy as np\n",
    "from networkx.drawing.nx_agraph import graphviz_layout\n",
    "import pickle\n",
    "import community\n",
    "\n",
    "#others\n",
    "from collections import defaultdict\n",
    "from itertools import count\n",
    "from itertools import islice\n",
    "import operator"
   ]
  },
  {
   "cell_type": "markdown",
   "metadata": {},
   "source": [
    "<h2 align=\"center\">Motivation</h2> \n",
    "\n",
    "\n",
    "\n",
    "What makes people happy? or more specifically what makes a programmer happy? And how do you become a happy programmer? \n",
    "These questions were the starting point for this project, where we wanted to put the users of Stack Overflow (SO), the largest online community for programmers [1],  under a magnifying glass and discover happiness factors for  this community. \n",
    "\n",
    "When doing a project about happiness, we need to first define exactly what that is. Definitions are many, but the following  description made by psychology researcher Sonja Lyubomirsky was found quite accurate: *\"the experience of joy, contentment, or positive well-being, combined with a sense that one’s life is good, meaningful, and worthwhile.\"*\n",
    "[2] \n",
    "\n",
    "The project started with stating some initial hypotheses we wanted to explore and either confirm or reject in the end. The hypotheses were based on different articles about happiness [3][4]: \n",
    "1. People that code in clojure, Scala, Ruby or JavaScript are the most happy [5]\n",
    "2. Caring about others and helping makes people happy (in SO it could be the people who answer most)\n",
    "3. Being acknowledged, doing something meaningful (Like winning batches and reputation in SO) makes people happy\n",
    "4. Money makes people happy\n",
    "\n",
    "\n",
    "The dataset used is composed from both SO and Twitter data. It might seems obvious to analyse the text on SO, such as question and answers, however due to the writing style on a Q&A site, the sentiment from there would most likely not give a clear indication of the sentiment of a person. More on this under Sentiment. Stack Overflow’s API and the Stack Exchange Data Explorer [7] were used to get all the users in Denmark and their answers, tags, tweet usernames etc. The tweets were then retrieved from Twitter, using Twitter's API.  In all, the data consists of danish SO users data and their twitter history. This made it possible to get simple statistics on the user, create networks based on tags, users etc. and do sentiment analysis on the tweets. Overall the project aims at understanding the danish SO users, find out what makes them happy and the parameters that defines happiness within this community. All of this is also available on a [website](https://alinasgzan.github.io/social_graphs/) which converts the analysis results into nice, digestible information anyone can understand, so everyone can find out what to do to become a happy(er) programmer. \n"
   ]
  },
  {
   "cell_type": "markdown",
   "metadata": {},
   "source": [
    "***"
   ]
  },
  {
   "cell_type": "markdown",
   "metadata": {},
   "source": [
    "<h2 align=\"center\">Basic stats</h2> \n",
    "\n",
    "Knowing and understanding the data is the place to start; to begin with, some preprocessing was required, to clean and define the specific data even more. As mentioned, only the danish part of the SO community was chosen - in order to minimize the scope of the problem. Besides, the project is about happiness and Denmark is known to be the happiest nation in the world."
   ]
  },
  {
   "cell_type": "markdown",
   "metadata": {},
   "source": [
    "#### Stack Overflow\n",
    "Stack Overflow is an online community of professional and enthusiast programmers where you can ask and answer questions (related to programming and technologies). SO is a part of Stack Exchange, which is a network of more than 150 Q&A online communities; SO is one of its main sites and has 6.4 mill. users as of December 2016 [6]. All the sites under Stack Exchange include, beside the Q&A, some functionalities: \n",
    "1. Upvoting and downvoting answers, to ensure the best answer is on top\n",
    "2. Users earn badges based on several parameters: helpful answers, question asked, question within the same field, etc. \n",
    "3. To indicate what type of question or answer, tags are added to represent either a programming language or a technology. \n",
    "\n",
    "\n",
    "**Users**\n",
    "\n",
    "\n",
    "To get an initial list of users, the [Stack Exchange Data Explorer][7] *(\"an open source tool for running arbitrary queries against public data from the Stack Exchange network*), was used. \n",
    "\n",
    "\n",
    "Here is the sql snippet used:\n",
    "\n",
    "\n",
    ">`SELECT Id [User Link], Reputation, DisplayName, Location\n",
    ">FROM Users\n",
    ">WHERE Location like '%##Location##%'\n",
    ">ORDER by Reputation desc`\n",
    "\n",
    "\n",
    "\n",
    "This resulted in a list of 5717 users (as of 9th of November 2016). Note that more users have registered since, so the query might return more rows now). A shortcoming of the above method is that it will only retrieve users that have listed \"Denmark\" as their location. There are a number of danish users who only list their city, for instance (http://stackoverflow.com/users/1956457/baumi - Odense or http://stackoverflow.com/users/3986879/ulf-aslak / http://stackoverflow.com/users/2399772/demitrian - Copenhagen), list their location as \"Danmark\", or do not list their location at all. However, it is out of the scope to search for all the SO users really living in Denmark.\n",
    "\n",
    "As a side note, Stack Exchange Data Explorer database is updated every Sunday [8].\n"
   ]
  },
  {
   "cell_type": "code",
   "execution_count": 3,
   "metadata": {
    "collapsed": false
   },
   "outputs": [
    {
     "name": "stdout",
     "output_type": "stream",
     "text": [
      "5717\n"
     ]
    }
   ],
   "source": [
    "user_ids = []\n",
    "with open('QueryResults.csv') as csvfile:\n",
    "    reader = csv.DictReader(csvfile)\n",
    "    for row in reader:\n",
    "        user_id = row['User Link'], row['DisplayName']\n",
    "        user_ids.append(user_id)     \n",
    "\n",
    "#get a list of the user ids only:\n",
    "users=[user[0] for user in user_ids]\n",
    "\n",
    "print len(users)"
   ]
  },
  {
   "cell_type": "markdown",
   "metadata": {},
   "source": [
    "More user data can be retrieved using the Stack exchange Developer. This is useful for basic stats and for generating the networks. An overall query is shown below. \n",
    ">`SELECT Id AS [Id Link], DisplayName, Reputation, WebsiteUrl, Location, AboutMe, Views, UpVotes, DownVot, Age, AccountId\n",
    ">FROM Users\n",
    ">WHERE LOWER(Location) LIKE '%denmark%'\n",
    ">ORDER BY Reputation DESC`\n",
    "\n",
    "\n",
    "However the most relevant elements for this project were extracted using the queries below .\n",
    "For selecting total number of answers, total number of accepted answers and reputation:\n",
    "\n",
    ">`SELECT answer.OwnerUserId As [User Link],'http://stackoverflow.com/users/' + Cast(answer.OwnerUserId as nvarchar(10)) \n",
    ">As [Permalink], Users.Reputation, count(answer.id) AS [Total Answers], count(question.id) AS [Accepted Answers]\n",
    ">FROM Posts answer LEFT OUTER JOIN Posts question ON question.AcceptedAnswerId = answer.id INNER JOIN Users ON >answer.OwnerUserId = Users.id\n",
    ">WHERE answer.postTypeId = 2 -- 2 means that post is an answer AND Users.Location like '%denmark%'\n",
    ">GROUP BY  answer.OwnerUserId,  Users.Reputation\n",
    ">ORDER BY Users.Reputation desc`\n",
    "\n",
    "And for selecting the total number of questions asked (for users who have at least asked one question):\n",
    "\n",
    ">`SELECT\n",
    ">  answer.OwnerUserId As [User Link],\n",
    ">  count(answer.id) AS [Total Questions]\n",
    ">FROM\n",
    ">  Posts answer\n",
    ">  LEFT OUTER JOIN Posts question ON question.AcceptedAnswerId = answer.id\n",
    ">  INNER JOIN Users ON answer.OwnerUserId = Users.id\n",
    ">WHERE\n",
    ">  answer.postTypeId = 1 -- 1 means that post is a question\n",
    ">  AND \n",
    ">  Users.Location like '%denmark%'\n",
    ">GROUP BY \n",
    ">  answer.OwnerUserId`"
   ]
  },
  {
   "cell_type": "markdown",
   "metadata": {
    "collapsed": true
   },
   "source": [
    "SO has a total number of 47060 unique tags [9]. A user earns a tag anytime he asks or answers a question having that tag. At a glance, the danish SO users community has in total 148723 tags, a number of 16395 unique tags (roughly one third of the unique SO tags), 95140 total answers, 35464 accepted answers and 35824 questions. "
   ]
  },
  {
   "cell_type": "code",
   "execution_count": 3,
   "metadata": {
    "collapsed": false
   },
   "outputs": [
    {
     "name": "stdout",
     "output_type": "stream",
     "text": [
      "Total answers : 95140\n",
      "Total questions: 35824\n"
     ]
    }
   ],
   "source": [
    "reader = csv.reader(open(\"users_answers.csv\",\"rb\"))\n",
    "reader.next()\n",
    "print 'Total answers : '+ str(sum(int(x[3]) for x in reader))\n",
    "#print 'Total accepted answers : '+ str(sum(int(x[4]) for x in reader))\n",
    "\n",
    "reader2 = csv.reader(open(\"questions.csv\",\"rb\"))\n",
    "reader2.next()\n",
    "print 'Total questions: '+ str(sum(int(x[1]) for x in reader2))\n"
   ]
  },
  {
   "cell_type": "code",
   "execution_count": 4,
   "metadata": {
    "collapsed": false
   },
   "outputs": [
    {
     "name": "stdout",
     "output_type": "stream",
     "text": [
      "Tags in total: 148723\n",
      "Unique number of tags 16395\n"
     ]
    }
   ],
   "source": [
    "#list holding all the tags, from all users\n",
    "all_tags=[]\n",
    "\n",
    "#list holding the tag count for all users\n",
    "all_tags_counts=[]\n",
    "\n",
    "for user in users:\n",
    "    with open('tags/'+user+'.csv', 'rt') as tags_csv:\n",
    "        tag_reader = csv.reader(tags_csv)     \n",
    "        tags=[tag[0] for tag in tag_reader]\n",
    "        \n",
    "        #add the tags to the list of all tags\n",
    "        all_tags.extend(tags)\n",
    "        \n",
    "        #append the tags count to the list with tags counts\n",
    "        all_tags_counts.append(len(tags))\n",
    "        \n",
    "print \"Tags in total: \" + str(len(all_tags))\n",
    "print \"Unique number of tags \" + str(len(set(all_tags)))"
   ]
  },
  {
   "cell_type": "markdown",
   "metadata": {},
   "source": [
    "The tags were downloaded by calling the SO API and saved to individual text files. Here is the code snippet used to download all the tags for all users."
   ]
  },
  {
   "cell_type": "code",
   "execution_count": null,
   "metadata": {
    "collapsed": true
   },
   "outputs": [],
   "source": [
    "#API call to get all the tags for all users:\n",
    "#the parameters\n",
    "params = dict(\n",
    "    site='stackoverflow',\n",
    "    pagesize = '100',\n",
    "    \n",
    "    #replace with a valid Stack app key:\n",
    "    key='#####'\n",
    ")\n",
    "\n",
    "for user in users:\n",
    "    i=0\n",
    "    data['has_more']= True\n",
    "    \n",
    "    #open the file username.csv for each user \n",
    "    with io.open('tags/'+user+'.csv', 'wb') as out_file:\n",
    "        writer = csv.writer(out_file)\n",
    "        while (data['has_more']):\n",
    "            i=i+1\n",
    "            resp = requests.get(url='https://api.stackexchange.com/2.2/users/'+user+'/tags?&page='+str(i), params=params)\n",
    "            data = json.loads(resp.text) \n",
    "\n",
    "            for item in data['items']:\n",
    "                #write the tags to the file\n",
    "                writer.writerow( (item['name'],item['count']) )\n",
    "            \n",
    "            #check the backoff flag of the API (see http://api.stackexchange.com/docs/throttle):\n",
    "            if 'backoff' in data:\n",
    "                time.sleep(data['backoff'])"
   ]
  },
  {
   "cell_type": "markdown",
   "metadata": {},
   "source": [
    "The danish SO users have tags ranging between 0 (no tags) and 1930 tags. \n",
    "In the plot bellow, showing a distribution of the number of tags, we can see that most users have up to 200 tags; the distribution is higly skewed to the left."
   ]
  },
  {
   "cell_type": "code",
   "execution_count": 5,
   "metadata": {
    "collapsed": false
   },
   "outputs": [
    {
     "data": {
      "text/plain": [
       "1930"
      ]
     },
     "execution_count": 5,
     "metadata": {},
     "output_type": "execute_result"
    }
   ],
   "source": [
    "max(all_tags_counts)"
   ]
  },
  {
   "cell_type": "code",
   "execution_count": 6,
   "metadata": {
    "collapsed": false
   },
   "outputs": [
    {
     "data": {
      "text/html": [
       "<iframe id=\"igraph\" scrolling=\"no\" style=\"border:none;\" seamless=\"seamless\" src=\"https://plot.ly/~alina.sgzan/10.embed\" height=\"525px\" width=\"100%\"></iframe>"
      ],
      "text/plain": [
       "<plotly.tools.PlotlyDisplay object>"
      ]
     },
     "execution_count": 6,
     "metadata": {},
     "output_type": "execute_result"
    }
   ],
   "source": [
    "#defining the histograms..\n",
    "#..automatically\n",
    "hist = np.histogram(all_tags_counts, bins=range(1,max(all_tags_counts)+1))\n",
    "\n",
    "#..or with a given number of bins\n",
    "#hist = np.histogram(all_tags_counts, bins=100)\n",
    "\n",
    "x = hist[1]\n",
    "y = hist[0]\n",
    "\n",
    "trace0 = go.Bar(\n",
    "    x = x,\n",
    "    y = y,\n",
    "    marker=dict(\n",
    "        color='rgb(49,130,189)'\n",
    "    )\n",
    ")\n",
    "\n",
    "data = [trace0]\n",
    "layout =go.Layout(\n",
    "    xaxis = dict(\n",
    "        tickangle=0,\n",
    "        title = \"Number of tags\"\n",
    "    ),\n",
    "    yaxis = dict(\n",
    "        title = \"Number of users\"\n",
    "    ),\n",
    "    barmode = 'group',\n",
    "    title = \"Number of tags distribution \",\n",
    ")\n",
    "\n",
    "fig = go.Figure(data=data, layout=layout)\n",
    "py.iplot(fig, filename='Number of tags distribution')"
   ]
  },
  {
   "cell_type": "markdown",
   "metadata": {},
   "source": [
    "By looking at the actual tags, we can see which ones are most popular with the the SO users."
   ]
  },
  {
   "cell_type": "code",
   "execution_count": 7,
   "metadata": {
    "collapsed": true
   },
   "outputs": [],
   "source": [
    "#function to return the top 25 items, by count\n",
    "def get_top(xs, top=25):\n",
    "    counts = defaultdict(int)\n",
    "    for x in xs:\n",
    "        counts[x] += 1\n",
    "    return sorted(counts.items(), reverse=True, key=lambda tup: tup[1])[:top]"
   ]
  },
  {
   "cell_type": "code",
   "execution_count": 9,
   "metadata": {
    "collapsed": false
   },
   "outputs": [
    {
     "data": {
      "text/plain": [
       "[('javascript', 1596),\n",
       " ('c#', 1423),\n",
       " ('html', 1246),\n",
       " ('php', 1184),\n",
       " ('jquery', 1157),\n",
       " ('java', 1019),\n",
       " ('css', 982),\n",
       " ('mysql', 846),\n",
       " ('sql', 795),\n",
       " ('asp.net', 746)]"
      ]
     },
     "execution_count": 9,
     "metadata": {},
     "output_type": "execute_result"
    }
   ],
   "source": [
    "get_top(all_tags)[:10]"
   ]
  },
  {
   "cell_type": "markdown",
   "metadata": {},
   "source": [
    "#### Twitter\n",
    "The Data Explorer offers only a limited number of user information attributes: due to privacy considerations user email and twitter account are not included. In order to get the twitter account for each user we have used the BeautifulSoup library to scan all HTML pages corresponding to the user profiles of the users in the above list. \n",
    "\n",
    "The tweets are used to generate a sentiment analysis for each of the user as the backbone of the happiness indication and to compare it with the rest of the statistics and the measurements of the generated network. "
   ]
  },
  {
   "cell_type": "code",
   "execution_count": 7,
   "metadata": {
    "collapsed": false
   },
   "outputs": [],
   "source": [
    "#check all the user profiles for a twitter account\n",
    "for element in user_ids:\n",
    "    url = 'http://stackoverflow.com/users/' +  str(element[0])\n",
    "    data = urllib2.urlopen(url)\n",
    "    soup = BeautifulSoup(data, 'lxml')\n",
    "\n",
    "    f=open('twitterfile.csv', 'a')\n",
    "    writer = csv.writer(f)\n",
    "    \n",
    "    for a in soup.find_all('a', href=True):\n",
    "        #look for any href tag containing twitter.com in it\n",
    "        if 'twitter.com/' in a['href']:\n",
    "            #open a file to write all the link matches\n",
    "            with open('twitterfile.csv', 'a') as f:\n",
    "                try:\n",
    "                    #Write the usernames and twitter link as a row \n",
    "                    writer.writerow( (element[1], a['href']) )\n",
    "                finally:\n",
    "                    f.close()"
   ]
  },
  {
   "cell_type": "markdown",
   "metadata": {},
   "source": [
    "Not all SO users have a Twitter account associated. Moreover, Twitter is not so popular in Denmark as in other places of the world. From the above list we extracted 602 twitterlinks, corresponding to 586 unique users (some users have included their twiter account twice or more). We saved the twitter links in a csv file."
   ]
  },
  {
   "cell_type": "code",
   "execution_count": 5,
   "metadata": {
    "collapsed": false,
    "scrolled": true
   },
   "outputs": [
    {
     "name": "stdout",
     "output_type": "stream",
     "text": [
      "602\n",
      "586\n"
     ]
    }
   ],
   "source": [
    "#get a list of the twitter links\n",
    "import pandas\n",
    "twitter_users = pandas.read_csv('twitterfile.csv')\n",
    "twitter_links = twitter_users.link.tolist()\n",
    "\n",
    "#strip the links to only get username (everything after the last backslash)\n",
    "pretty_links = [link.rsplit('/', 1)[-1] for link in twitter_links]\n",
    "\n",
    "#since there are duplicates (some stackoverflow users include their twitter acount twice)\n",
    "# we need a unique list of tweeter usernames:\n",
    "uniqueids = set(pretty_links)\n",
    "\n",
    "#the final twitter username list\n",
    "unique_twitter_user_ids = list(uniqueids)#get a list of the twitter usernames \n",
    "\n",
    "print len(twitter_links)\n",
    "print len(unique_twitter_user_ids)"
   ]
  },
  {
   "cell_type": "markdown",
   "metadata": {},
   "source": [
    "\n",
    "We used the following getTweets() function to get the timelines (all the tweets a user has made) of the 586 users found above. This function makes use of the TwitterSearch library to interact with the Twitter API. The individual tweets were saved locally in text files. Please note that in order to be able to run the code, the Twitter API credentials must be provided in the code.    "
   ]
  },
  {
   "cell_type": "code",
   "execution_count": 35,
   "metadata": {
    "collapsed": false
   },
   "outputs": [],
   "source": [
    "#function to get the tweets in individual files\n",
    "def getTweets(usernames_list):\n",
    "    for user in usernames_list:\n",
    "        try:\n",
    "            twitter_user = TwitterUserOrder(user) \n",
    "\n",
    "            #create TwitterSearch object - replace with actual credentials here:\n",
    "            ts = TwitterSearch(\n",
    "                consumer_key = '#####',\n",
    "                consumer_secret = '####',\n",
    "                access_token = '####',\n",
    "                access_token_secret = '####'\n",
    "            )  \n",
    "            \n",
    "            #open a file with the username.txt name\n",
    "            with io.open('tweets/'+user +'.txt','w', encoding ='utf-8' ) as out_file:\n",
    "                for tweet in ts.search_tweets_iterable(twitter_user):\n",
    "                    out_file.write(tweet['text'])\n",
    "        \n",
    "        # catch any errors\n",
    "        except TwitterSearchException as e: \n",
    "            print(e)"
   ]
  },
  {
   "cell_type": "code",
   "execution_count": null,
   "metadata": {
    "collapsed": true
   },
   "outputs": [],
   "source": [
    "#calling the function to get the tweets:\n",
    "getTweets(unique_twitter_user_ids)"
   ]
  },
  {
   "cell_type": "markdown",
   "metadata": {},
   "source": [
    "To give you a small example of the TwitterSearch library, we print some tweets of a test user:"
   ]
  },
  {
   "cell_type": "code",
   "execution_count": 11,
   "metadata": {
    "collapsed": false,
    "scrolled": true
   },
   "outputs": [
    {
     "name": "stdout",
     "output_type": "stream",
     "text": [
      "@ploeh tweeted: In a response to a reader question (scroll down), I almost wrote another blog post about how easy it is to model do… https://t.co/n9oWRHBUeX\n",
      "\n",
      "@ploeh tweeted: @anderssamuelsen Betyder det at vi endelig vil begynde at bruge så mange penge på forsvaret, som vi allerede har lovet NATO at vi vil gøre?\n",
      "\n",
      "@ploeh tweeted: @Laumania That Kaj magnet has been on the fridge for more than 10 years. It's a good fridge magnet! :D\n",
      "\n",
      "@ploeh tweeted: RT @JerryWeinberg: Code should run as fast as necessary, but no faster; something important is always traded away to increase speed—Richard…\n",
      "\n",
      "@ploeh tweeted: @Danielovich FTR, I haven't used it in production. My current client logs using the ELK stack, and that works well from .NET as well...\n",
      "\n",
      "@ploeh tweeted: @Danielovich Have you looked into SeriLog from @nblumhardt ?\n",
      "\n",
      "@ploeh tweeted: @drboolean Related: https://t.co/BRMYn6R0OK\n",
      "\n",
      "@ploeh tweeted: @dalager Du har tydeligvis aldrig set Wim Wenders' Until the End of the World ;)\n",
      "\n",
      "@ploeh tweeted: @housecor I thought it was: \"if you don't stand for something, you'll fall for anything\"...\n",
      "\n",
      "@ploeh tweeted: @ghohpe @unclebobmartin If you truly don't know, would any other answer be more useful?\n",
      "\n"
     ]
    }
   ],
   "source": [
    "try:\n",
    "    test = TwitterUserOrder('ploeh') \n",
    "    tweet_list=[]\n",
    "    \n",
    "    #create TwitterSearch object\n",
    "    #if you want to run this code, please replace the key and token fields with valid credentials \n",
    "    ts = TwitterSearch(\n",
    "                consumer_key = '####',\n",
    "                consumer_secret  = '####',\n",
    "                access_token = '####',\n",
    "                access_token_secret  = '####'\n",
    "            )\n",
    "\n",
    "    #query for the timeline\n",
    "    for tweet in ts.search_tweets_iterable(test):\n",
    "        tweet_list.append( '@%s tweeted: %s' % ( tweet['user']['screen_name'], tweet['text']))\n",
    "\n",
    "except TwitterSearchException as e: # catch any errors\n",
    "    print(e)\n",
    "\n",
    "for tweet in tweet_list[:3]:\n",
    "    print tweet"
   ]
  },
  {
   "cell_type": "markdown",
   "metadata": {},
   "source": [
    "What is important to notice here is that besides users not having a twitter count associated,some users who do have one did not necessarily tweet that often. This and more details about the tweets will be discussed further in the sentiment subsection of of the next section."
   ]
  },
  {
   "cell_type": "markdown",
   "metadata": {},
   "source": [
    "***"
   ]
  },
  {
   "cell_type": "markdown",
   "metadata": {},
   "source": [
    "<h2 align=\"center\">Tools, theory and analysis </h2> \n"
   ]
  },
  {
   "cell_type": "markdown",
   "metadata": {},
   "source": [
    "### Sentiment Analysis"
   ]
  },
  {
   "cell_type": "markdown",
   "metadata": {},
   "source": [
    "This sentiment was the backbone of the project, since it was used as a comparitative method for the network analysis. To create the analysis, several elements had to be considered, such as how to analyse the text, what text to analyse, language and how to score the sentiment. All of which will be described and shown below. \n",
    "\n",
    "#### Tweets\n",
    "First things first, to work on and analyze the tweets, they needed to be fixed. The text files consists of tweets for each new line, which needed to be cleaned, so that they only consists of words. This was done using regular expressions, or in other terms the regex puthon library [9]. This is very useful when finding, sorting or searching elements in a text. The regex searches, or matches specific patterns, and for the tweets it was used to remove unwanted elements and symbols that would not be relevant to the sentiment analysis, such as  weblinks, hashtags and other irrelevant symbols. The tweets were also divided based on the keyword 'newtweet' added before a new tweet. A fuction was created that cleaned the tweets, seperated them and added the to a list. Note that for this project retweet or tweet was not seperated, all counted as the users tweet. \n"
   ]
  },
  {
   "cell_type": "code",
   "execution_count": 27,
   "metadata": {
    "collapsed": true
   },
   "outputs": [],
   "source": [
    "#Getting a list of tweets for a user\n",
    "def get_tweets(username):\n",
    "    list_of_tweets = []\n",
    "    #open the file\n",
    "    with io.open('new_tweets/' + username , \"r\", encoding = 'utf-8') as infile:\n",
    "        #generate it as one long string to avoid unwanted cutoffs based on \\n\n",
    "        data=infile.read().replace('\\n', '')\n",
    "        #split the string based on the keyword\n",
    "        test = data.split(\"newtweet\")\n",
    "        #clean the tweet and add it to the list\n",
    "        for i in test:\n",
    "            tweets_cleaned_hashtags = re.sub(r'#', ' ',i)\n",
    "            tweets = re.sub(r\"http\\S+\", \"\",tweets_cleaned_hashtags)\n",
    "            list_of_tweets.append(tweets)\n",
    "        return list_of_tweets"
   ]
  },
  {
   "cell_type": "code",
   "execution_count": 12,
   "metadata": {
    "collapsed": false
   },
   "outputs": [
    {
     "name": "stdout",
     "output_type": "stream",
     "text": [
      "3236\n",
      "tweet nr:  1 @SandraLee_48 watch the video and realise the big mistake not standing behind Clinton\n",
      "tweet nr:  2 @SandraLee_48 So you are happy now? \n",
      "tweet nr:  3 @gatopeich @NaomiAKlein @democracynow So enjoy. Thanks for helping fucking us all up \n",
      "tweet nr:  4 @BernBrigade @NaomiAKlein @democracynow yeah you have gotten the world burned \n",
      "tweet nr:  5 @KevinMagnussen We are looking forward to see you in a Haas car next year!\n",
      "tweet nr:  6 RT @skov_frank: Det er sgu svært ikke at være glad for hvor dygtige danske udviklere er på vindområdet. Vind og vand energi til  dkpol og @…\n"
     ]
    }
   ],
   "source": [
    "#to show the output of the function, a small example is shown.\n",
    "print len(get_tweets('lars_ole.txt'))\n",
    "test_tweet = get_tweets('lars_ole.txt')\n",
    "for i in range(1,7):\n",
    "    print 'tweet nr: ', i, test_tweet[i]\n",
    "\n",
    "        "
   ]
  },
  {
   "cell_type": "markdown",
   "metadata": {},
   "source": [
    "#### Language\n",
    "Given the fact that we are talking about Danish Twitter users, an important preprocessing part for the text analysis was to distinguish between the languages of tweets. Unfortunately it was not possible to simply assume that everyone tweets in danish,  especially since Denmark is quite diverse in types of nationalities and languages. From a preliminary look at the tweets, it was clear that the tweets were in many languages but mostly dansh or english. Many approaches were tried, to fix this issue. A quick research on the web pointed towards using a stopwords approach - this consists in comparing the text against a list of stopwords and based on the stopwords frequency match, guess the language. However this proved unefficient, due to the fact that the languages share a number of stopwords (i, for, at) and due to the short lenght nature of tweets and because it is guessing norweigan instead of danish when testing it on small examples.  \n",
    "\n",
    "We have instead tested a number of pyhton libraries and ended up using [the guess language libray](https://bitbucket.org/spirit/guess_language ). [10], because this was the most accurate. The downside of this library is that even if pyEnchant was installed it still did not recognize small sentences. However the libraries found that did work with small text examples were non-deterministic, meaning that it does not necessarily choose the same language everytime it is run. "
   ]
  },
  {
   "cell_type": "code",
   "execution_count": 29,
   "metadata": {
    "collapsed": false
   },
   "outputs": [
    {
     "name": "stdout",
     "output_type": "stream",
     "text": [
      "guessing short sentences:  Are you coming too? UNKNOWN Det er sjov ting du! UNKNOWN\n",
      "guessing long sentences Are you coming too? yes! en Det er sjov ting du siger! da\n",
      "The first tweet is guessed as:  en  The next tweet is guessed as:  da\n"
     ]
    }
   ],
   "source": [
    "\n",
    "#Test of guessLanguage\n",
    "t = 'Are you coming too?'\n",
    "t_long = 'Are you coming too? yes!'\n",
    "l = 'Det er sjov ting du!'\n",
    "l_long = 'Det er sjov ting du siger!'\n",
    "print 'guessing short sentences: ',t,  guessLanguage(t), l,guessLanguage(l)\n",
    "print 'guessing long sentences',t_long, guessLanguage(t_long),l_long, guessLanguage(l_long)\n",
    "    \n",
    "guess_text_da = \"Checker stadig twitter hver dag :) Poster ikk rigtigt herinde, lser bare. so stfu \"\n",
    "guess_text_en = \"OMG i just saw the funniest thing, tweet ha ha! lol\"\n",
    "print 'The first tweet is guessed as: ', guessLanguage(guess_text_en), ' The next tweet is guessed as: ', guessLanguage(guess_text_da)"
   ]
  },
  {
   "cell_type": "markdown",
   "metadata": {},
   "source": [
    "Now that the languages are handled by the library, next step is to decide how to distinguish the languages. To simplify the process, it was decided to only look at sentiment of tweets guessed as either english or danish and ignore the rest of languages that migh be. Otherwise a sentiment score had to be done for each language. But do people who tweet in danish, only tweet in danish? From the code below it is quite clear that even if some tweets are in dansih, it does not mean that they all are. "
   ]
  },
  {
   "cell_type": "code",
   "execution_count": 21,
   "metadata": {
    "collapsed": false,
    "scrolled": true
   },
   "outputs": [
    {
     "name": "stdout",
     "output_type": "stream",
     "text": [
      "language of tweet nr:  1  =  en\n",
      "language of tweet nr:  2  =  en\n",
      "language of tweet nr:  3  =  en\n",
      "language of tweet nr:  4  =  en\n",
      "language of tweet nr:  5  =  en\n",
      "language of tweet nr:  6  =  da\n"
     ]
    }
   ],
   "source": [
    "#to show the output of the function, a small example is shown.\n",
    "test_tweet = get_tweets('lars_ole.txt')\n",
    "for i in range(1,7):\n",
    "    print 'language of tweet nr: ', i, ' = ',guessLanguage(test_tweet[i])"
   ]
  },
  {
   "cell_type": "markdown",
   "metadata": {},
   "source": [
    "This means that the tweets needs to be divided  and the language guessed for each tweet, in order to actually ensure that the language guessing comes into play. "
   ]
  },
  {
   "cell_type": "markdown",
   "metadata": {},
   "source": [
    "### Sentiment"
   ]
  },
  {
   "cell_type": "markdown",
   "metadata": {
    "collapsed": true
   },
   "source": [
    "Two sentiment methods were needed, one for danish and one for english. To create a sentiment score method for a language, a lexicon or a word list consisting of common words for that language were needed. For the English tweets the Mechanical Turk (s1) sentiment list was used [11], for the Danish tweets the AFINN word list was used [12].\n",
    "\n",
    "Eventhough the AFINN comes with a library that calculates the score, both the s1 and the AFINN is caculated by the same method, this was to ensure that they were calculated in the same way and that the text was handled in the same way in terms of tokenization and unicode. Besides when using the AFINN score it goes both above and below the -5 and 5.. \n",
    "\n",
    "To get the sentiment score, the wordlist needed to be converted into dictionaries that could later be called. The function to this were created as generic as possible, which meant that it contains parameters that define the columns, removes unwanted headers etc.  \n",
    "\n",
    "Note that to handle encoding of the wordlist and especially when working with danish words that contains æ,ø,å, the words from the word list were encoded as unicode, and so is the tweet method further down. "
   ]
  },
  {
   "cell_type": "code",
   "execution_count": 4,
   "metadata": {
    "collapsed": true
   },
   "outputs": [],
   "source": [
    "#function to define if element is a float - this is needed in the next function\n",
    "def isfloat(value):\n",
    "    try:\n",
    "        float(value)\n",
    "        return True\n",
    "    except ValueError:\n",
    "        return False\n"
   ]
  },
  {
   "cell_type": "code",
   "execution_count": 5,
   "metadata": {
    "collapsed": true
   },
   "outputs": [],
   "source": [
    "#Function for getting the sentiment file, the parameters sets the range, the columns and the file to use. This works for both !!\n",
    "def sentiment(type_sentiment, column_1, column_2, range_):\n",
    "    dict_s = {}\n",
    "    #ensuring cooperation with dansih and tweets the files are encoded. \n",
    "    with io.open(type_sentiment, 'r',encoding='utf-8' ) as f:\n",
    "        #Ensuring that the range can be used as a parameter by splitting the string input\n",
    "        range_= map(int, range_.split(\":\"))\n",
    "        read_words = f.readlines()[range_[0]:range_[1]]\n",
    "        #creating the dictionary.\n",
    "        for i in read_words:\n",
    "            if isfloat(i.split()[column_2]) == False:\n",
    "                key = i.split()[column_1] + ' '+ i.split()[column_2]\n",
    "                value = i.split()[2]\n",
    "            else:\n",
    "                key =i.split()[column_1]\n",
    "                value = float(i.split()[column_2])\n",
    "            dict_s[key] = value\n",
    "        return dict_s\n",
    "          "
   ]
  },
  {
   "cell_type": "code",
   "execution_count": 53,
   "metadata": {
    "collapsed": false
   },
   "outputs": [
    {
     "name": "stdout",
     "output_type": "stream",
     "text": [
      "sad 2.38\n",
      "Words in Mechanical Turk aka s1:  10221\n"
     ]
    }
   ],
   "source": [
    "#printing a test for S1 and defining it:\n",
    "s1_sentiment = sentiment('Data_Set_S1.txt', 0,2, \"4:-1\")\n",
    "#printing a test of a word and its value\n",
    "for k,v in s1_sentiment.items():\n",
    "    if k == 'sad':\n",
    "        print k,v\n",
    "s1_dict =s1_sentiment.keys()[2], s1_sentiment.values()[2]\n",
    "print 'Words in Mechanical Turk aka s1: ', len(s1_sentiment)"
   ]
  },
  {
   "cell_type": "code",
   "execution_count": 7,
   "metadata": {
    "collapsed": false,
    "scrolled": true
   },
   "outputs": [
    {
     "name": "stdout",
     "output_type": "stream",
     "text": [
      " (u'lortehoved', -4.0)\n",
      "Words in AFINN Danish:  3550\n"
     ]
    }
   ],
   "source": [
    "#printin a test for AFINN dk and defining it:\n",
    "dk_sentiment = sentiment('danish_AFINN.txt', 0,1, \"0:-1\")\n",
    "#printing a test of a word and its value\n",
    "dk_dict =dk_sentiment.keys()[1], dk_sentiment.values()[1]\n",
    "print dk_dict\n",
    "print 'Words in AFINN Danish: ', len(dk_sentiment)"
   ]
  },
  {
   "cell_type": "markdown",
   "metadata": {},
   "source": [
    "There is a english version of the AFINN, but since it only consist of 3381 words, the s1 with its 10221 words seemed the most accurate."
   ]
  },
  {
   "cell_type": "code",
   "execution_count": 51,
   "metadata": {
    "collapsed": false
   },
   "outputs": [
    {
     "name": "stdout",
     "output_type": "stream",
     "text": [
      "sad -2.0\n",
      "Words in AFINN english:  3381\n"
     ]
    }
   ],
   "source": [
    "#printin a test for AFINN uk and defining it:\n",
    "UK_sentiment = sentiment('english_AFINN.txt', 0,1, \"0:-1\")\n",
    "#printing a test of a word and its value\n",
    "for k,v in UK_sentiment.items():\n",
    "    if k == 'sad':\n",
    "        print k,v\n",
    "\n",
    "print 'Words in AFINN english: ', len(UK_sentiment)"
   ]
  },
  {
   "cell_type": "markdown",
   "metadata": {},
   "source": [
    "The AFINN scores words between -5 and 5, and the s1 scores words between 1.3 and 8.5,  So to ensure that the two languages could be calculated together a convertion function was created. The convertion is based on the AFINN scoring. It is done by assesing the distance between the AFINN score and then based on the index it will give the correct AFINN score."
   ]
  },
  {
   "cell_type": "code",
   "execution_count": 59,
   "metadata": {
    "collapsed": false
   },
   "outputs": [],
   "source": [
    "import numpy as np\n",
    "\n",
    "#method for converting s1 score to AFINN score\n",
    "def convert_score(s1_score):\n",
    "    line_s1 = []\n",
    "    #create a list of size AFINN of s1 using numpy ogrid\n",
    "    line_in = np.ogrid[1.3:8.5:11j]\n",
    "        #find the index in s1 list and get the score in the same index in AFINN. note nonzero is the \"numpy\" way of indexing\n",
    "    index_ = np.nonzero(line_in== (min(line_in, key=lambda x:abs(x-s1_score))))\n",
    "    index_ = index_\n",
    "    score = np.arange(-5,6,1 )\n",
    "    converted = score[index_].tolist()[0]\n",
    "    return converted\n"
   ]
  },
  {
   "cell_type": "code",
   "execution_count": 60,
   "metadata": {
    "collapsed": false
   },
   "outputs": [
    {
     "data": {
      "text/plain": [
       "-5"
      ]
     },
     "execution_count": 60,
     "metadata": {},
     "output_type": "execute_result"
    }
   ],
   "source": [
    "\"\"\"test of method above, if a tweet gets this, which is the lowest in s1,\n",
    "#it should convert to the lowest in the AFINN scala: -5\"\"\"\n",
    "convert_score(1.3)"
   ]
  },
  {
   "cell_type": "markdown",
   "metadata": {},
   "source": [
    "The sentiment score is calculated in a function that firstly tokenizes the text that is being scored, and thereafter it compares each word with the given sentiment (word list) and calculates a mean. To tokenize the text the nltk(natural language tool kit) library has been imported and used. This is a library that is very useful when working with language processing, it offers many ways to play around with text. In this project it was mostly used for sentiment.  "
   ]
  },
  {
   "cell_type": "code",
   "execution_count": 54,
   "metadata": {
    "collapsed": true
   },
   "outputs": [],
   "source": [
    "#creating method for sentiment analysis, where file and sentiment type is added\n",
    "\n",
    "def sentiment_score(file_, sentiment_dict):\n",
    "    #first the file is tokenized\n",
    "    tokens = nltk.word_tokenize(file_)\n",
    "    # now the value is found for each word\n",
    "    word_score = [value for word, value in sentiment_dict.items() if word.lower() in tokens]\n",
    "    #Getting the mean of the file values. \n",
    "    score = np.mean(word_score)\n",
    "    #this is ensuring that if word does not have a value it will be excluded from the calculation\n",
    "    if word_score == []:\n",
    "        print 'error, no value'\n",
    "        return None\n",
    "    else:\n",
    "        return round(score,2)\n"
   ]
  },
  {
   "cell_type": "markdown",
   "metadata": {},
   "source": [
    "Now that all the bits and pieces are created, a function can be made to retrieve the score for each user. Note that this function is getting an average based on either danish or english or both, depending on the tweets the user has posted. The code has to take into consideration not only the language but also if the score returns a None, if the tweet does not have a score. Furthermore the code is also counting the tweets not having english or danish and the tweets that have None. This will be used later. \n"
   ]
  },
  {
   "cell_type": "code",
   "execution_count": 55,
   "metadata": {
    "collapsed": true
   },
   "outputs": [],
   "source": [
    "\n",
    "#method that takes each tweet and validates its languange and then gives a sentiment. \n",
    "def sentiment_tweet(username):\n",
    "    #creating dictionaries to hold the sentiment for each tweet\n",
    "    senti_dict_en = {}\n",
    "    senti_dict_dk = {}\n",
    "    #get tweets\n",
    "    tweets = get_tweets(username)\n",
    "    #to get status\n",
    "    counter = 0\n",
    "    #to ensure the right sentiment is shown in the end\n",
    "    en =False\n",
    "    dk = False\n",
    "    not_da_en = 0\n",
    "    no_value = 0\n",
    "    for tweet in tweets:\n",
    "            #just to see progress\n",
    "        counter += 1\n",
    "        \n",
    "        #if the tweet is guessed as english the s1 sentiment will be used and converted\n",
    "        if guessLanguage(tweet) == 'en':\n",
    "            senti_en_s1 = sentiment_score(tweet,s1_sentiment )\n",
    "            #to ensure that we only get dict with relevant tweets and not with some that has\n",
    "            if senti_en_s1 !=None:\n",
    "                senti_en = convert_score(senti_en_s1)\n",
    "                senti_dict_en[tweet] =senti_en\n",
    "                en = True\n",
    "            else:\n",
    "                no_value += 1\n",
    "                \n",
    "        #if the tweet is guessed as danish the dk sentiment will be used\n",
    "        elif guessLanguage(tweet) =='da':\n",
    "            senti_dk = sentiment_score(tweet, dk_sentiment)\n",
    "            if senti_dk != None:\n",
    "                senti_dict_dk[tweet] =senti_dk\n",
    "                dk= True\n",
    "            else:\n",
    "                no_value +=1\n",
    "\n",
    "        #for simplicity if the tweet is neither guessed as en or da then it is ignored\n",
    "        elif guessLanguage(tweet) !='da' and guessLanguage(tweet) != 'en':\n",
    "            #print 'neither danish or english'\n",
    "            not_da_en += 1\n",
    "\n",
    "        if counter%1000==0:\n",
    "            print 'calculating sentiment of 1000 tweet...'\n",
    "    #This is if else statements to ensure that only the correct mean are found. \n",
    "    if en == True and dk == True:\n",
    "        mean_dk = np.mean(senti_dict_dk.values())\n",
    "        mean_en = np.mean(senti_dict_en.values())\n",
    "        sentiment =(mean_dk + mean_en)/2\n",
    "        return round(sentiment, 2), no_value, not_da_en\n",
    "    elif en == True and dk != True:\n",
    "        mean_en = np.mean(senti_dict_en.values())\n",
    "        return round(mean_en, 2), no_value, not_da_en\n",
    "    elif en != True and dk == True:\n",
    "        mean_dk = np.mean(senti_dict_dk.values())\n",
    "        return round(mean_dk, 2), no_value, not_da_en\n",
    "\n",
    "    else:\n",
    "        return None, no_value, not_da_en\n",
    "    \n",
    "    \n",
    "\n",
    "    "
   ]
  },
  {
   "cell_type": "code",
   "execution_count": 61,
   "metadata": {
    "collapsed": false
   },
   "outputs": [
    {
     "name": "stdout",
     "output_type": "stream",
     "text": [
      "error, no value\n",
      "error, no value\n",
      "error, no value\n",
      "error, no value\n",
      "error, no value\n",
      "error, no value\n",
      "error, no value\n",
      "error, no value\n",
      "error, no value\n",
      "error, no value\n",
      "error, no value\n",
      "(0.9, 11, 127)\n"
     ]
    }
   ],
   "source": [
    "#test of method above\n",
    "get_data = sentiment_tweet('danacaitlineng.txt')\n",
    "print get_data\n"
   ]
  },
  {
   "cell_type": "markdown",
   "metadata": {},
   "source": [
    "This method was then used on all of the text files containing each users tweets.  Note that the \"error, no value\" output is from the sentiment_score function. It is indicating that the tweet has no value. "
   ]
  },
  {
   "cell_type": "code",
   "execution_count": 62,
   "metadata": {
    "collapsed": true
   },
   "outputs": [],
   "source": [
    "#creating dictionaries to hold the data from the code below\n",
    "happiness_user = {}\n",
    "user_data = {}"
   ]
  },
  {
   "cell_type": "code",
   "execution_count": null,
   "metadata": {
    "collapsed": true
   },
   "outputs": [],
   "source": [
    "#Getting the sentiments for each user and then adding it to a dict and then a pickle file\n",
    "#Note that it has not been executed here, due to the time it takes. \n",
    "for f in os.listdir(\"new_tweets_first\"):\n",
    "    senti_u = sentiment_tweet(f)\n",
    "    \n",
    "    happiness_user[f]= senti_u[0]\n",
    "    user_data[f] = senti_u\n",
    "pickle.dump(happiness_user, open(\"happiness_overall.p\",\"wb\"))\n",
    "pickle.dump( user_data, open( \"dict_user.p\", \"wb\" ) )"
   ]
  },
  {
   "cell_type": "code",
   "execution_count": 8,
   "metadata": {
    "collapsed": false
   },
   "outputs": [
    {
     "name": "stdout",
     "output_type": "stream",
     "text": [
      "Length of users with tweets:  585\n",
      "Length of users with tweets without the None scored:  539\n",
      "micmdk.txt (0.91, 3, 22)\n"
     ]
    }
   ],
   "source": [
    "#Opening the pickle file. \n",
    "tweets_status = pickle.load(open(\"dict_user.p\", \"rb\"))\n",
    "#removing the scores with None and getting there keys to remove from the dict.\n",
    "print 'Length of users with tweets: ', len(tweets_status)\n",
    "sorting = [key for key, (scor,_,_) in tweets_status.iteritems() if scor == None]  \n",
    "dict_score = {key : (val, val2, val3) for key ,(val,val2,val3) in tweets_status.items() if key not in sorting}\n",
    "print 'Length of users with tweets without the None scored: ', len(dict_score)\n",
    "print tweets_status.keys()[1], tweets_status.values()[1]"
   ]
  },
  {
   "cell_type": "code",
   "execution_count": 33,
   "metadata": {
    "collapsed": false
   },
   "outputs": [
    {
     "name": "stdout",
     "output_type": "stream",
     "text": [
      "Length of new dict, None sorted out:  539\n",
      "The saddest user is:  miestasmia.txt  with a sentiment score of:  -1.16\n",
      "The happiest user is:  greatdealsdk.txt  with a sentiment score of:  3.0 \n",
      "\n"
     ]
    }
   ],
   "source": [
    "\n",
    "#Opening the pickle file and getting stats\n",
    "sentiment_tweets_dict = pickle.load(open(\"happiness_overall.p\", \"rb\"))\n",
    "#a new dict has been created to sort out all the users with None value. \n",
    "dic = {key : val for key ,val in sentiment_tweets_dict.items() if val != None}\n",
    "print 'Length of new dict, None sorted out: ', len(dic) \n",
    "min_sent = min(dic, key=dic.get)\n",
    "\n",
    "max_sent = max(dic, key= dic.get)\n",
    "print 'The saddest user is: ', min_sent, ' with a sentiment score of: ', min(dic.values())\n",
    "print 'The happiest user is: ', max_sent, ' with a sentiment score of: ', max(dic.values()), '\\n'\n"
   ]
  },
  {
   "cell_type": "markdown",
   "metadata": {},
   "source": [
    "What is intersting to notice from this test is that the happiest user is actually a companies twitter profile, and that it is a twitter account with very few tweets. The top ten hapiest and saddest users are shown below. This also shows the ration of the sentiment scores. The ration is not as large as it could be, due to the calculation was a mean of the scores. "
   ]
  },
  {
   "cell_type": "code",
   "execution_count": 30,
   "metadata": {
    "collapsed": false
   },
   "outputs": [
    {
     "name": "stdout",
     "output_type": "stream",
     "text": [
      "THE HAPPIEST USERS ARE:\n",
      "\n",
      " greatdealsdk.txt: 3.0\n",
      " mathiasschjott.txt: 2.1\n",
      " abmyusufi.txt: 2.04\n",
      " gvuksic.txt: 2.0\n",
      " pwehnerk.txt: 1.96\n",
      " borumnet.txt: 1.94\n",
      " Hytekdk.txt: 1.94\n",
      " _atino.txt: 1.93\n",
      " JacobMidtgaard.txt: 1.93\n",
      " sabrinamunch.txt: 1.87\n"
     ]
    }
   ],
   "source": [
    "print  \"THE HAPPIEST USERS ARE:\\n\"\n",
    "for key, value in sorted(dic.iteritems(), key = lambda (k,v): (v,k), reverse = True)[:10]:\n",
    "    print \" %s: %s\" % (key, value)"
   ]
  },
  {
   "cell_type": "code",
   "execution_count": 31,
   "metadata": {
    "collapsed": false
   },
   "outputs": [
    {
     "name": "stdout",
     "output_type": "stream",
     "text": [
      "THE SADDEST USERS ARE:\n",
      "\n",
      " miestasmia.txt: -1.16\n",
      " dawk0.txt: -1.14\n",
      " xeBuz.txt: -1.14\n",
      " wbednarski.txt: -1.12\n",
      " pmrcunha.txt: -1.11\n",
      " martinjulhammer.txt: -1.1\n",
      " caszum.txt: -1.09\n",
      " axl_txl.txt: -1.07\n",
      " johanneseh.txt: -1.03\n",
      " dicelerdk.txt: -1.01\n"
     ]
    }
   ],
   "source": [
    "print  \"THE SADDEST USERS ARE:\\n\"\n",
    "for key, value in sorted(dic.iteritems(), key = lambda (k,v): (v,k))[:10]:\n",
    "    print \" %s: %s\" % (key, value)"
   ]
  },
  {
   "cell_type": "markdown",
   "metadata": {},
   "source": [
    "To get a better understanding of the tweets all in all and how much the lack of sentiment and the languages neither Danish or english affects it, these two values and the count of tweets were shown in a plot. "
   ]
  },
  {
   "cell_type": "code",
   "execution_count": 12,
   "metadata": {
    "collapsed": false
   },
   "outputs": [
    {
     "name": "stdout",
     "output_type": "stream",
     "text": [
      "max nr of tweets with no sentiment:  1235\n",
      "max nr of tweets with neither danish or english: 3183\n"
     ]
    }
   ],
   "source": [
    "#creating a list for each value. \n",
    "scores = [score for key, (score,_,_) in dict_score.iteritems() ]\n",
    "no_da_en = [val for key, (_,_,val) in dict_score.iteritems() ]\n",
    "no_sentiment= [val for key, (_,val,_) in dict_score.iteritems() ]\n",
    "\n",
    "print 'max nr of tweets with no sentiment: ',max(no_sentiment)\n",
    "print 'max nr of tweets with neither danish or english:', max(no_da_en)"
   ]
  },
  {
   "cell_type": "code",
   "execution_count": null,
   "metadata": {
    "collapsed": true
   },
   "outputs": [],
   "source": [
    "# getting amount of each users tweets\n",
    "tweets_length= {f: len(get_tweets(f)) for f in os.listdir(\"new_tweets\") }\n",
    "pickle.dump(tweets_length, open(\"len_of_tweets.p\",\"wb\"))"
   ]
  },
  {
   "cell_type": "code",
   "execution_count": 13,
   "metadata": {
    "collapsed": false
   },
   "outputs": [
    {
     "name": "stdout",
     "output_type": "stream",
     "text": [
      "585\n",
      "micmdk.txt 86\n",
      "539\n"
     ]
    }
   ],
   "source": [
    "#Opening the pickle file. \n",
    "len_tweets = pickle.load(open(\"len_of_tweets.p\", \"rb\"))\n",
    "print len(len_tweets)\n",
    "print len_tweets.keys()[1], len_tweets.values()[1]\n",
    "dict_len_tweet = {key : value for key ,value in len_tweets.items() if key not in sorting}\n",
    "print len(dict_len_tweet)\n",
    "amount = [val for key, val in dict_len_tweet.items()]"
   ]
  },
  {
   "cell_type": "code",
   "execution_count": 14,
   "metadata": {
    "collapsed": false
   },
   "outputs": [],
   "source": [
    "#creating a list that contains all three two iterate through for plot\n",
    "list_all = []\n",
    "\n",
    "for i, j, p in zip(amount, no_da_en, no_sentiment):\n",
    "    list_a = [i, j, p]\n",
    "    list_all.append(list_a)"
   ]
  },
  {
   "cell_type": "code",
   "execution_count": 17,
   "metadata": {
    "collapsed": false
   },
   "outputs": [
    {
     "data": {
      "image/png": "[encoded data removed]",
      "text/plain": [
       "<matplotlib.figure.Figure at 0xd0276d8>"
      ]
     },
     "metadata": {},
     "output_type": "display_data"
    }
   ],
   "source": [
    "\n",
    "#plotting each user as a color on the three bars\n",
    "ys = list_all\n",
    "x = range(0,3)\n",
    "plt.figure(figsize=(5, 15), dpi=20)\n",
    "bar_text = ('Tweets','Not Da or En', 'No sentiment')\n",
    "plt.xticks(x, bar_text, size='medium')\n",
    "plt.ylabel('Count')\n",
    "plt.title('Count of tweets:total, % sentiment, no lang')\n",
    "plt.xticks(x, bar_text)\n",
    "colors = cm.rainbow(np.linspace(0, 1, len(list_all)))\n",
    "for y, c in zip(ys, colors):\n",
    "\n",
    "\n",
    "    plt.scatter(x, y, color=c)\n",
    "#print dict_score.values()\n"
   ]
  },
  {
   "cell_type": "markdown",
   "metadata": {},
   "source": [
    "From this plot it is clear that there is a combination of amout of tweets and how many with no sentiment and how many that were not guessed as danish or english. This was quite as expected. \n",
    "To see if the sentiment score has anything to with the amount of tweets, a graph awas created to see if there were any correlation. As shown before there is not really any combination between the two, which was unexpected. "
   ]
  },
  {
   "cell_type": "code",
   "execution_count": 18,
   "metadata": {
    "collapsed": false
   },
   "outputs": [
    {
     "data": {
      "text/plain": [
       "<matplotlib.text.Text at 0xd8126d8>"
      ]
     },
     "execution_count": 18,
     "metadata": {},
     "output_type": "execute_result"
    },
    {
     "data": {
      "image/png": "[encoded data removed]",
      "text/plain": [
       "<matplotlib.figure.Figure at 0x9da2048>"
      ]
     },
     "metadata": {},
     "output_type": "display_data"
    }
   ],
   "source": [
    "plt.figure(figsize=(20, 5), dpi=80)\n",
    "x = amount\n",
    "y = scores\n",
    "plt.plot(x, y, 'o',alpha=0.5)\n",
    "#plt.xlim( 0,3500 )\n",
    "plt.title('Sentiment score vs amount of tweets')\n",
    "plt.ylabel('Sentiment score')\n",
    "plt.xlabel('Amount of tweets')"
   ]
  },
  {
   "cell_type": "markdown",
   "metadata": {},
   "source": [
    "As mentioned in the Motivation, the tweets were selected instead of SO text, below is a small example of how the sentiment would be for SO text. First the text from answers are retrieved and afterwards it is cleaned and a score is determined. "
   ]
  },
  {
   "cell_type": "code",
   "execution_count": 100,
   "metadata": {
    "collapsed": true
   },
   "outputs": [],
   "source": [
    "\n",
    "#getting the answer text from a certain user in stackoverflow\n",
    "def get_answer(usernr, userfile):\n",
    "    i = 1\n",
    "    url = 'https://api.stackexchange.com/2.2/users/'+ str(usernr) + '/answers?order=desc&sort=activity&filter=withbody&site=stackoverflow&page=1&pagesize=100'\n",
    "    r = requests.get(url)\n",
    "    binary = r.content\n",
    "    output = json.loads(binary)\n",
    "    #saving it to a file\n",
    "    with io.open(userfile , 'wb') as f:\n",
    "        for j in range(len(output['items'])):\n",
    "            body = output['items'][j][\"body\"]\n",
    "            f.write(body)\n",
    "        \n",
    "        if output['has_more'] == True:\n",
    "            i += 1\n",
    "            url ='https://api.stackexchange.com/2.2/users/'+ str(usernr) +'/answers?order=desc&sort=activity&filter=withbody&site=stackoverflow&page=' + str(i) + '&pagesize=100'\n",
    "            r = requests.get(url)\n",
    "            binary = r.content\n",
    "            output = json.loads(binary)    \n",
    "            for i in range(len(output['items'])):\n",
    "                body = output['items'][i][\"body\"]\n",
    "                text = f.write(body)\n",
    "    return  i\n",
    "                \n"
   ]
  },
  {
   "cell_type": "code",
   "execution_count": 94,
   "metadata": {
    "collapsed": true
   },
   "outputs": [],
   "source": [
    "def get_score_stack(userfile):\n",
    "    \n",
    "    with io.open(userfile, 'rb') as stack_file:\n",
    "        text =stack_file.read().replace('\\n', '')\n",
    "        text_clean = re.sub(r'\\W+', ' ', text)\n",
    "        text_ = re.sub(r\"http\\S+\", \"\",text_clean)\n",
    "    #print text_\n",
    "        score_stack = sentiment_score(text_, s1_sentiment)\n",
    "        score_ = convert_score(score_stack)\n",
    "    return score_\n"
   ]
  },
  {
   "cell_type": "code",
   "execution_count": 102,
   "metadata": {
    "collapsed": false,
    "scrolled": true
   },
   "outputs": [
    {
     "name": "stdout",
     "output_type": "stream",
     "text": [
      "amount of tweets for user 1:  3217 pages of answer:  100\n",
      "user 1 is scoring:  1 on his answers in SO\n",
      "user 1 is scoring:  0.56 on his tweets\n",
      "amount of tweets for user 1:  26 pages of answer:  2\n",
      "user 2 is scoring:  1 on his answers in SO\n",
      "user 2 is scoring:  1.21 on his tweets\n"
     ]
    }
   ],
   "source": [
    "#testing the methods \n",
    "user_1 = 'ploeh.txt'\n",
    "user_2 = 'Hanspagh.txt'\n",
    "\n",
    "print 'amount of tweets for user 1: ', len(get_tweets('ploeh.txt')), 'pages of answer: ', 1+get_answer(126014, 'body_ploeh.txt')\n",
    "\n",
    "print 'user 1 is scoring: ', get_score_stack('body_ploeh.txt'), 'on his answers in SO'\n",
    "print 'user 1 is scoring: ', dic[user_1], 'on his tweets'\n",
    "\n",
    "\n",
    "print 'amount of tweets for user 1: ', len(get_tweets('Hanspagh.txt')), 'pages of answer: ', 1+get_answer(3286944, 'body_Hanspagh.txt')\n",
    "\n",
    "print 'user 2 is scoring: ', get_score_stack('body_Hanspagh.txt'), 'on his answers in SO'\n",
    "print 'user 2 is scoring: ', dic[user_2], 'on his tweets'\n"
   ]
  },
  {
   "cell_type": "markdown",
   "metadata": {},
   "source": [
    "It is clear that with two user who have many or few tweets the sentiment get the same. Of course it is worth  mentioning that the function is using the convertion function, that is only returning whole numbers, no decimal. But when compared to the two users sentiment on tweets it is clear that this way of getting sentiment would be quite uninformative. When asking something in a semiproffessionel enviroment such as SO, a user would want to formulate himself politely to possible get as much help as possible, besides when answering questions on SO, it is something you decided to do, so you would answer nicely in hopes of getting your answer upvoted and therby getting a higher reputation. \n",
    "\n",
    "To round up the sentiment part before jumping to network analysis, a moving average of sentiment has been made for two users. \n",
    "One user who has english tweets and one who has danish and both of them are the top tweeting users."
   ]
  },
  {
   "cell_type": "code",
   "execution_count": 105,
   "metadata": {
    "collapsed": false
   },
   "outputs": [
    {
     "name": "stdout",
     "output_type": "stream",
     "text": [
      "Language for NA:  en\n",
      "Language for Riis:  da\n"
     ]
    }
   ],
   "source": [
    "# getting language of a english tweeter, with many tweets\n",
    "data_NA = get_tweets('NA.txt')\n",
    "text_NA = ' '.join(data_NA)\n",
    "# getting language of a hopefully danish user \n",
    "data_Riis = get_tweets('risagerlarsen.txt')\n",
    "text_Riis = ' '.join(data_Riis)\n",
    "print 'Language for NA: ', guessLanguage(text_NA)\n",
    "print 'Language for Riis: ', guessLanguage(text_Riis)\n",
    "\n"
   ]
  },
  {
   "cell_type": "code",
   "execution_count": 107,
   "metadata": {
    "collapsed": true
   },
   "outputs": [],
   "source": [
    "#Method for moving average based on window size, user and sentiment. \n",
    "def moving_average(user, window, sentiment):\n",
    "    list_moving_average = []\n",
    "    #first we need to split the data based on a window size    \n",
    "    data = get_tweets(user)\n",
    "    for x in xrange(0, len(data),window):\n",
    "        data_chunk = data[x:x+window] \n",
    "        text_chunked = ' '.join(data_chunk)\n",
    "        #then we get the moving average and append it to a list\n",
    "        moving_average = sentiment_score(text_chunked,sentiment)\n",
    "        list_moving_average.append(moving_average)\n",
    "    return list_moving_average\n"
   ]
  },
  {
   "cell_type": "markdown",
   "metadata": {},
   "source": [
    "Using trial and error, different sizes of windows were tested"
   ]
  },
  {
   "cell_type": "code",
   "execution_count": 113,
   "metadata": {
    "collapsed": false,
    "scrolled": true
   },
   "outputs": [
    {
     "data": {
      "image/png": "[encoded data removed]",
      "text/plain": [
       "<matplotlib.figure.Figure at 0xcfc5400>"
      ]
     },
     "metadata": {},
     "output_type": "display_data"
    }
   ],
   "source": [
    "\n",
    "#This is based on UK sentiment\n",
    "list_10_en = moving_average('NA.txt', 10, UK_sentiment)\n",
    "\n",
    "plt.figure(figsize=(15, 4), dpi=80)\n",
    "plt.plot(np.arange(0,101,100.0/len(list_10_en))[0:len(list_10_en)],list_10_en)\n",
    "        \n",
    "plt.ylim(-5,5 )\n",
    "plt.xlim( 0,100 )\n",
    "plt.title( 'English - window of 10 tweets')\n",
    "plt.legend()\n",
    "plt.show()"
   ]
  },
  {
   "cell_type": "code",
   "execution_count": 114,
   "metadata": {
    "collapsed": false
   },
   "outputs": [
    {
     "data": {
      "image/png": "[encoded data removed]",
      "text/plain": [
       "<matplotlib.figure.Figure at 0x3cd7828>"
      ]
     },
     "metadata": {},
     "output_type": "display_data"
    }
   ],
   "source": [
    "\n",
    "#This is based on UK sentiment\n",
    "list_10_en = moving_average('NA.txt', 10, UK_sentiment)\n",
    "\n",
    "plt.figure(figsize=(15, 4), dpi=80)\n",
    "plt.plot(np.arange(0,101,100.0/len(list_10_en))[0:len(list_10_en)],list_10_en)\n",
    "        \n",
    "plt.ylim(-5,5 )\n",
    "plt.xlim( 0,100 )\n",
    "plt.title( 'English - window of 20 tweets')\n",
    "plt.show()"
   ]
  },
  {
   "cell_type": "code",
   "execution_count": 115,
   "metadata": {
    "collapsed": false
   },
   "outputs": [
    {
     "name": "stdout",
     "output_type": "stream",
     "text": [
      "error, no value\n"
     ]
    },
    {
     "data": {
      "image/png": "[encoded data removed]",
      "text/plain": [
       "<matplotlib.figure.Figure at 0x9b6e400>"
      ]
     },
     "metadata": {},
     "output_type": "display_data"
    }
   ],
   "source": [
    "list_10_da = moving_average('risagerlarsen.txt', 10, dk_sentiment)\n",
    "\n",
    "plt.figure(figsize=(15, 4), dpi=80)\n",
    "plt.plot(np.arange(0,101,100.0/len(list_10_da))[0:len(list_10_da)],list_10_da)\n",
    "        \n",
    "plt.ylim(-5,5 )\n",
    "plt.xlim( 0,100 )\n",
    "plt.title( 'Danish - window of 10 tweets')\n",
    "\n",
    "plt.legend()\n",
    "plt.show()"
   ]
  },
  {
   "cell_type": "code",
   "execution_count": 116,
   "metadata": {
    "collapsed": false
   },
   "outputs": [
    {
     "data": {
      "image/png": "[encoded data removed]",
      "text/plain": [
       "<matplotlib.figure.Figure at 0xd03da20>"
      ]
     },
     "metadata": {},
     "output_type": "display_data"
    }
   ],
   "source": [
    "list_20_da = moving_average('risagerlarsen.txt', 20, dk_sentiment)\n",
    "\n",
    "plt.figure(figsize=(15, 4), dpi=80)\n",
    "plt.plot(np.arange(0,101,100.0/len(list_20_da))[0:len(list_20_da)],list_20_da)\n",
    "        \n",
    "plt.ylim(-5,5 )\n",
    "plt.xlim( 0,100 )\n",
    "plt.title( 'Danish - window of 20 tweets')\n",
    "\n",
    "plt.legend()\n",
    "plt.show()\n"
   ]
  },
  {
   "cell_type": "markdown",
   "metadata": {},
   "source": [
    "What is interesting about these moving averages is that the danish actually seems to be more varied than the english, which was not expected, since danes are a bit more restricted i their communication. However it might be due to the fact that the english tweets are probarbly mostly done by danes, meaning that it is not in their mother tongue. This could e a reason to keep it more neutral. Besides the reason for tweeting in english might be due to a proffesional network kept on twitter as well, which explains that it is neutral. It is however not surpricing that the danish tweets are a bit more negative than teh english, both due to the above and due to danish people being good at complaining. "
   ]
  },
  {
   "cell_type": "markdown",
   "metadata": {
    "collapsed": true
   },
   "source": [
    "***\n",
    "\n",
    "### Network analysis"
   ]
  },
  {
   "cell_type": "markdown",
   "metadata": {},
   "source": [
    "The second important part of this project was the analysis of the Danish SO community network. There were a lot of discusions of what would be more meaningful to use for generating networks from the SO data: should a bipartite network of users and tags be constructed? should users or tags be nodes? and how should they be connected? \n",
    "\n",
    "Looking at the four hypotheses stated in the begining of the project, what was needed was to :\n",
    "- investigate what programming languages are most \"important\" or most \"central\"\n",
    "- look at the correlation between the happiness score and a number of facts:\n",
    "        - number of programming languages of users, type of programming languages\n",
    "        - the number of answers, accepted anwers, reputation   \n",
    "\n",
    "The networks that will be explored and analysed further on are therefore: a network of users connected by tags they share and a network of tags connected by the users sharing them. \n",
    "\n",
    "#### Network 1 -  Top 10 tags from all users as nodes; users share two tags (nodes) as edges.\n",
    "\n",
    "The first network to look into is the tags network. However, given the huge amount of unique tags - 16395 - not all tags will be considered. They are be filtered by frequency, for each user. Therefore for each user his top 10 tags are selected to become nodes in this network. \n",
    "\n",
    "There are a number of steps in creating the newtork. First, a list of top tags for all users is generated:  "
   ]
  },
  {
   "cell_type": "code",
   "execution_count": 7,
   "metadata": {
    "collapsed": true
   },
   "outputs": [],
   "source": [
    "#the n parameter defines how many top tags are included \n",
    "#a n=10 will result in a total of 34044, of which 5763 unique tags \n",
    "#a n=20 will result in a total of 53927, of which 8049 unique tags \n",
    "n=10\n",
    "\n",
    "user_top_tags_list=[]\n",
    "all_top_tags=[]\n",
    "\n",
    "#make dictionary of user id and their top tags \n",
    "for user in users:\n",
    "    with open('tags/'+user+'.csv', 'rt') as tags_csv:\n",
    "        tag_reader = csv.reader(tags_csv)\n",
    "        \n",
    "        #get the first n lines (the top tags) - the csv files for tags are sorted desc by tag count\n",
    "        tagdata = list(islice(tag_reader, n))        \n",
    "        top_tags=[tagd[0] for tagd in tagdata]\n",
    "        \n",
    "        #add the tags to the list of all tags\n",
    "        all_top_tags.extend(top_tags)\n",
    "        \n",
    "        user_top_tags_tuple=(user,top_tags)\n",
    "        user_top_tags_list.append(user_top_tags_tuple)\n",
    "        \n",
    "users_top_tags_dict=dict(user_top_tags_list)\n",
    "top_tags_set=set(all_top_tags)"
   ]
  },
  {
   "cell_type": "code",
   "execution_count": 12,
   "metadata": {
    "collapsed": false
   },
   "outputs": [
    {
     "name": "stdout",
     "output_type": "stream",
     "text": [
      "Total top tags for all users:  34044\n",
      "Unique number of tags - the number if nodes for the network:  5763\n"
     ]
    }
   ],
   "source": [
    "print \"Total top tags for all users: \", len(all_top_tags)\n",
    "print \"Unique number of tags - the number if nodes for the network: \", len(top_tags_set)"
   ]
  },
  {
   "cell_type": "markdown",
   "metadata": {},
   "source": [
    "The top_tags_set gives the nodes of the network. For defining edges between two nodes, the intersection of the list of users both nodes is calculated. If the intersection is not empty (that is, the nodes \"share\" at least one user), an edge is added between the two nodes. The weight of the edge is set to be the number of users the two nodes \"share\"."
   ]
  },
  {
   "cell_type": "code",
   "execution_count": 8,
   "metadata": {
    "collapsed": true
   },
   "outputs": [],
   "source": [
    "#create a dictionary where the key is a top tag and the value is a list of users having the top tag\n",
    "tag_user_dicts=[]\n",
    "for tag in top_tags_set:\n",
    "    user_list=[user for user,tag_list in users_top_tags_dict.items() if tag in tag_list]\n",
    "    tag_user_dict=(tag,user_list)\n",
    "    tag_user_dicts.append(tag_user_dict)\n",
    "top_tags_users_dict = dict(tag_user_dicts)"
   ]
  },
  {
   "cell_type": "code",
   "execution_count": 9,
   "metadata": {
    "collapsed": true
   },
   "outputs": [],
   "source": [
    "#the graph\n",
    "#creating the graph:\n",
    "G_top_tags=nx.Graph()\n",
    "\n",
    "#adding nodes:\n",
    "for tag in top_tags_set:\n",
    "    G_top_tags.add_node(tag)\n",
    "\n",
    "#adding edges:\n",
    "for tag1 in top_tags_set:\n",
    "    for tag2 in top_tags_set:\n",
    "        if tag1==tag2:\n",
    "            continue #we don't want self loops\n",
    "        else:\n",
    "            #check if there are any common users\n",
    "            if (len(set(top_tags_users_dict.get(tag1)).intersection(top_tags_users_dict.get(tag2)))): \n",
    "                #if so, add a path\n",
    "                G_top_tags.add_path([tag1,tag2]) \n",
    "                #and set the edge data\n",
    "                G_top_tags[tag1][tag2]['common_users'] =  list(set(top_tags_users_dict.get(tag1)).intersection(top_tags_users_dict.get(tag2))) \n",
    "                #set edge weight                                             \n",
    "                G_top_tags[tag1][tag2]['weight'] = len(G_top_tags[tag1][tag2]['common_users']) "
   ]
  },
  {
   "cell_type": "markdown",
   "metadata": {},
   "source": [
    "The resulted graph has 5763 nodes and 78415 weighted edges. "
   ]
  },
  {
   "cell_type": "code",
   "execution_count": 15,
   "metadata": {
    "collapsed": false
   },
   "outputs": [
    {
     "name": "stdout",
     "output_type": "stream",
     "text": [
      "5763 nodes\n",
      "78415 edges\n"
     ]
    }
   ],
   "source": [
    "print G_top_tags.number_of_nodes(),\"nodes\"\n",
    "print G_top_tags.number_of_edges(),\"edges\""
   ]
  },
  {
   "cell_type": "markdown",
   "metadata": {},
   "source": [
    "To analyse the importance of different language, we next inspect some important network measurement. First, we look at the degree distribution. Then we inspect centrality, calculating betweenness and eigen vector centralities."
   ]
  },
  {
   "cell_type": "markdown",
   "metadata": {},
   "source": [
    "**Degree distribution of tags network **\n",
    "\n",
    "\n",
    "\n",
    "\n",
    "\n",
    "\n"
   ]
  },
  {
   "cell_type": "code",
   "execution_count": 10,
   "metadata": {
    "collapsed": true
   },
   "outputs": [],
   "source": [
    "weight_deg =nx.degree(G_top_tags, weight='weight')"
   ]
  },
  {
   "cell_type": "code",
   "execution_count": 24,
   "metadata": {
    "collapsed": false
   },
   "outputs": [
    {
     "data": {
      "text/plain": [
       "9555"
      ]
     },
     "execution_count": 24,
     "metadata": {},
     "output_type": "execute_result"
    }
   ],
   "source": [
    "max(weight_deg.values())"
   ]
  },
  {
   "cell_type": "markdown",
   "metadata": {},
   "source": [
    "Bellow the degree distribution is ploted in the actual scale:"
   ]
  },
  {
   "cell_type": "code",
   "execution_count": 11,
   "metadata": {
    "collapsed": false
   },
   "outputs": [
    {
     "data": {
      "text/html": [
       "<iframe id=\"igraph\" scrolling=\"no\" style=\"border:none;\" seamless=\"seamless\" src=\"https://plot.ly/~alina.sgzan/14.embed\" height=\"525px\" width=\"100%\"></iframe>"
      ],
      "text/plain": [
       "<plotly.tools.PlotlyDisplay object>"
      ]
     },
     "execution_count": 11,
     "metadata": {},
     "output_type": "execute_result"
    }
   ],
   "source": [
    "#defining the histograms\n",
    "hist = np.histogram(weight_deg.values(), bins=range(1,max(weight_deg.values())+1))\n",
    "\n",
    "#zoom in, taking the first degree values\n",
    "#hist = np.histogram(weight_deg.values(), bins=range(100))\n",
    "\n",
    "x = hist[1]\n",
    "y = hist[0]\n",
    "\n",
    "trace0 = go.Bar(\n",
    "    x = x,\n",
    "    y = y,\n",
    "    marker=dict(\n",
    "        color='rgb(49,130,189)'\n",
    "    )\n",
    ")\n",
    "\n",
    "data = [trace0]\n",
    "layout =go.Layout(\n",
    "    xaxis = dict(\n",
    "        tickangle=0,\n",
    "        title = \"Degree\"\n",
    "    ),\n",
    "    yaxis = dict(\n",
    "        title = \"Occurences\"\n",
    "    ),\n",
    "    barmode = 'group',\n",
    "    title = \"Tags network degree distribution\",\n",
    ")\n",
    "\n",
    "fig = go.Figure(data=data, layout=layout)\n",
    "py.iplot(fig, filename='Degree distribution in tags network')"
   ]
  },
  {
   "cell_type": "markdown",
   "metadata": {},
   "source": [
    "To observe the nature of the distribuiton better, a log-log scale plot is provided bellow.  "
   ]
  },
  {
   "cell_type": "code",
   "execution_count": 12,
   "metadata": {
    "collapsed": false
   },
   "outputs": [
    {
     "data": {
      "text/html": [
       "<iframe id=\"igraph\" scrolling=\"no\" style=\"border:none;\" seamless=\"seamless\" src=\"https://plot.ly/~alina.sgzan/32.embed\" height=\"525px\" width=\"100%\"></iframe>"
      ],
      "text/plain": [
       "<plotly.tools.PlotlyDisplay object>"
      ]
     },
     "execution_count": 12,
     "metadata": {},
     "output_type": "execute_result"
    }
   ],
   "source": [
    "hist = np.histogram(weight_deg.values(), bins=range(1,max(weight_deg.values())+1))\n",
    "trace1 = go.Scatter(\n",
    "x = hist[1],\n",
    "y = hist[0],\n",
    "mode = 'markers',\n",
    "name = 'markers'\n",
    ")\n",
    "data = [trace1]\n",
    "layout = go.Layout(\n",
    "    xaxis=dict(\n",
    "        type='log',\n",
    "        autorange=True\n",
    "    ),\n",
    "    yaxis=dict(\n",
    "        type='log',\n",
    "        autorange=True\n",
    "    )\n",
    ")\n",
    "fig = go.Figure(data=data, layout=layout)\n",
    "py.iplot(fig)\n"
   ]
  },
  {
   "cell_type": "markdown",
   "metadata": {},
   "source": [
    "Looking at the above plot and observing the initial curve (between 1-10 on the x scale), one could be tempted to estimate the distribution to a Poisson distribution. However, the Poisson distribution observable in the random network model underestimates the size and the frequency of the high degree nodes. This is as well easy to observe in the graph above, where the second pattern describes more of a power-law distribution, observable in scale free networks. "
   ]
  },
  {
   "cell_type": "markdown",
   "metadata": {},
   "source": [
    "Two more centrality measures are next analysed: betweeness and eigen vector centralities [13]. \n",
    "\n",
    "The betweennes centrality of a node is dependent to the number of shortest paths from all nodes to all others nodes that pass through that node. A node with high betweenness centrality has a large influence on the transfer of items through the network. \n",
    "\n",
    "In this newtork of tags, a high betweenness centrality would indicate a technology that is sort of a \"bridge\" or a prerequisite to learn another technology. \n",
    "\n",
    "Eigen vector centrality is again a measure of the influence of a node in a network, looking at the types of nodes a node is connected too. If a node has many connections and these connections are isolated, it doesn't mean the node is necesary central (even if its degree centrality is high). In contrast, if a node is connected to other powerful nodes, with many connections, the node is indeed central (its eigen vector centrality is high).\n",
    "\n",
    "In this network a high eigen centrality would indicate a tag that is highly connected to the most popular languages in the danish SO community.  "
   ]
  },
  {
   "cell_type": "code",
   "execution_count": 37,
   "metadata": {
    "collapsed": false
   },
   "outputs": [],
   "source": [
    "#calculate betweenness centrality and print the top 10 tags:\n",
    "btw=nx.betweenness_centrality(G_top_tags)\n",
    "#for key, value in sorted(btw.iteritems(), key=lambda (k,v): (v,k), reverse=True)[:10]:\n",
    "    #print \"%s: %s\" % (key, value)"
   ]
  },
  {
   "cell_type": "markdown",
   "metadata": {},
   "source": [
    "|Tag|Betweenness centrality|                                \n",
    "|--|-------------------------------|                        \n",
    "|C#|0.138591926034|\n",
    "|javascript|0.107253405217|\n",
    "|java|0.0897250201117|\n",
    "|php|0.0699683987781|\n",
    "|android|0.0531741089897|\n",
    "|pyhton|0.0528487548262|\n",
    "|jquery|0.049210228049|\n",
    "|html|0.0368605171323|\n",
    "|ios|0.030129660279|\n",
    "|mysql|0.0285724541454|\n",
    "\n",
    "\n"
   ]
  },
  {
   "cell_type": "code",
   "execution_count": 38,
   "metadata": {
    "collapsed": false
   },
   "outputs": [],
   "source": [
    "#calculate eigen vector centrality and print the top 10 tags:\n",
    "eig = nx.eigenvector_centrality(G_top_tags)\n",
    "#for key, value in sorted(eig.iteritems(), key = lambda (k,v): (v,k), reverse = True)[:10]:\n",
    "    #print \"%s: %s\" % (key, value)"
   ]
  },
  {
   "cell_type": "markdown",
   "metadata": {},
   "source": [
    "|Tag|Eigen vector centrality|                                \n",
    "|--|-------------------------------|                        \n",
    "|javascript|0.443654367319|\n",
    "|jquery|0.382305259561|\n",
    "|html|0.366523936665|\n",
    "|php|0.323453285964|\n",
    "|css|0.28863066822|\n",
    "|C#|0.276707511735|\n",
    "|mysql|0.201935867026|\n",
    "|asp.net|0.173821206975|\n",
    "|.net|0.154142603469|\n",
    "|java|0.148577098286|\n",
    "\n",
    "\n",
    "\n"
   ]
  },
  {
   "cell_type": "markdown",
   "metadata": {},
   "source": [
    "Another measurement interesting to look at is the assortativity coefficient. This lies between −1 and 1. When r = 1, the network is said to have perfect assortative mixing patterns, when r = 0 the network is non-assortative, while at r = −1 the network is completely disassortative [13].\n",
    "\n",
    "The degree assortativity coefficient is negative , but close to 0. This means that there is a small tendency for high-degree tags to link to low-degree tags. This observation could be the natural effect of the SO tag system: there are a huge number of tags, very specialised for particular problems, within different programming languages and paradigms; moreover anyone can add a new tag, a fact that favors the creation of low degree tags. "
   ]
  },
  {
   "cell_type": "code",
   "execution_count": 22,
   "metadata": {
    "collapsed": false
   },
   "outputs": [
    {
     "name": "stdout",
     "output_type": "stream",
     "text": [
      "Degree assortativity coefficient is:  -0.200191734028\n"
     ]
    }
   ],
   "source": [
    "assort = nx.degree_assortativity_coefficient(G_top_tags)\n",
    "print \"Degree assortativity coefficient is: \", assort"
   ]
  },
  {
   "cell_type": "markdown",
   "metadata": {},
   "source": [
    "Finally, a community analysis was made on the tags graph, using the Python Louvain-algorithm implementation [14]. First the modularity of the community partition was calculated. The 0.33 value is indicating a fair optimisation of tags community division, given the fact that tags communities overlapp a lot: for example general programming elements like regex or arrays would be present in many or all communities."
   ]
  },
  {
   "cell_type": "code",
   "execution_count": 40,
   "metadata": {
    "collapsed": false
   },
   "outputs": [
    {
     "name": "stdout",
     "output_type": "stream",
     "text": [
      "0.33390997231\n"
     ]
    }
   ],
   "source": [
    "partition = community.community_louvain.best_partition(G_top_tags)\n",
    "modularity = community.community_louvain.modularity(partition,G_top_tags)\n",
    "print modularity"
   ]
  },
  {
   "cell_type": "code",
   "execution_count": 43,
   "metadata": {
    "collapsed": false
   },
   "outputs": [
    {
     "name": "stdout",
     "output_type": "stream",
     "text": [
      "1141  tags in community :  0\n",
      "1386  tags in community :  1\n",
      "1116  tags in community :  2\n",
      "1240  tags in community :  3\n",
      "3  tags in community :  4\n",
      "279  tags in community :  5\n",
      "457  tags in community :  6\n",
      "63  tags in community :  7\n",
      "9  tags in community :  8\n",
      "8  tags in community :  9\n",
      "7  tags in community :  10\n",
      "24  tags in community :  11\n",
      "6  tags in community :  12\n",
      "1  tags in community :  13\n",
      "1  tags in community :  14\n",
      "3  tags in community :  15\n",
      "2  tags in community :  16\n",
      "1  tags in community :  17\n",
      "4  tags in community :  18\n",
      "3  tags in community :  19\n",
      "1  tags in community :  20\n",
      "1  tags in community :  21\n",
      "2  tags in community :  22\n",
      "1  tags in community :  23\n",
      "1  tags in community :  24\n",
      "1  tags in community :  25\n",
      "1  tags in community :  26\n",
      "1  tags in community :  27\n"
     ]
    }
   ],
   "source": [
    "communities=defaultdict(list)\n",
    "for key, value in sorted(partition.iteritems(), key=lambda (k,v): (v,k), reverse=True):\n",
    "    communities[value].append(key)\n",
    "\n",
    "for key in communities:\n",
    "    print len(communities[key]),\" tags in community : \",key\n",
    "\n",
    "#uncomment the code bellow to print all the communities \n",
    "#    print communities[key]"
   ]
  },
  {
   "cell_type": "markdown",
   "metadata": {},
   "source": [
    "The Pyhton Louvain algorithm detected 28 communities. An example community is shown below. The community seems to encorporate various media technologies for web solutions like flash / actionscript programming , stage, stage3d and their specific components: itemrendered, audio, gradients, geocode, etc"
   ]
  },
  {
   "cell_type": "code",
   "execution_count": 47,
   "metadata": {
    "collapsed": false,
    "scrolled": true
   },
   "outputs": [
    {
     "name": "stdout",
     "output_type": "stream",
     "text": [
      "['youtube-channels', 'typoscript', 'typo3-7.x', 'typo3-7.6.x', 'typo3-6.2.x', 'typo3-6.1.x', 'typo3', 'timeline', 'starling-framework', 'stage3d', 'stage', 'spectrum', 'setsockopt', 'sendto', 'rtmfp', 'rosetta-stone', 'remote-desktop', 'recordset', 'rampart', 'ping', 'pci-e', 'pci-bus', 'pci', 'multicast', 'mismatch', 'linear-gradients', 'jsfl', 'itemrenderer', 'introspection', 'ico', 'html5-audio', 'hook', 'greasemonkey', 'gradients', 'gecode', 'flux', 'fluid', 'flex4.5', 'flex4', 'flex3', 'flex', 'flash-player', 'flash-media-server', 'flash-cs5', 'flash-builder', 'flash', 'file-get-contents', 'fedext', 'favicon', 'extbase', 'dos', 'cumulus', 'constraint-programming', 'code-injection', 'code-golf', 'bootloader', 'axis2', 'amf', 'air', 'adobe', 'actionscript-3', 'actionscript-2', 'actionscript']\n"
     ]
    }
   ],
   "source": [
    "print communities[7]"
   ]
  },
  {
   "cell_type": "markdown",
   "metadata": {},
   "source": [
    "Finally, given the great amount of nodes (5763) and edges (78415), the network of tags is not being ploted here. A plot will be provided for the network of users. "
   ]
  },
  {
   "cell_type": "markdown",
   "metadata": {},
   "source": [
    "###  Network 2 - users with more than 50 analysed tweets as nodes, tags shared as edges\n",
    "\n",
    "The second graph analysed is formed by taking users as nodes and the tags they have in common as a basis for generating edges. As we want to inspect the correlation between the network analysis results and the sentiment analysis for different users, some filtering of users was needed. \n",
    "\n",
    "First of all, only users with a twiter account associated were considered. Out of those, only users with a sufficient amount of tweets needed to be selected. However, the sentiment analysis function may fail to recognize \n",
    "\n",
    "* the language of the tweets\n",
    "* the sentiment of the tweets\n",
    "\n",
    "To deal with this problem and at the same time make it more meaningful, users were filtered based on the number of tweets successfully analysed by the sentiment analysis function. Therefore, only users with more than 50 succesfully analysed tweets were considered, resulting in a number of 380 nodes"
   ]
  },
  {
   "cell_type": "code",
   "execution_count": 31,
   "metadata": {
    "collapsed": false
   },
   "outputs": [],
   "source": [
    "#make a dictionary of SO username as key and the number of tweets as value\n",
    "with open('twitterfile.csv', mode='r') as infile:\n",
    "    reader = csv.reader(infile)\n",
    "    so_twitter_usernamedict = {rows[0]:rows[1].rsplit('/', 1)[-1] for rows in reader}\n",
    "\n",
    "#retrieve the number of tweets a user has by using the get_tweets function and calling the len of its result    \n",
    "user_no_tweets_dict ={k:len(get_tweets(v+'.txt')) for k, v in so_twitter_usernamedict.iteritems() if k!='user'}\n",
    "\n",
    "#pickle the dict for later use\n",
    "pickle.dump(user_no_tweets_dict, open(\"user_tweets_number.p\",\"wb\"))"
   ]
  },
  {
   "cell_type": "markdown",
   "metadata": {},
   "source": [
    "First the users having \"None\" as value (meaning that the language of his tweets could not be guessed - for example there is a user tweeting in German) are filtered out. "
   ]
  },
  {
   "cell_type": "code",
   "execution_count": 57,
   "metadata": {
    "collapsed": true
   },
   "outputs": [],
   "source": [
    "#use the dict generated by the sentiment analysis to filter out users whose tweets language was not guessed \n",
    "\n",
    "#unpickle the user - tweet happines scores dict\n",
    "sentiment_tweets_dict = pickle.load(open(\"dict_user.p\", \"rb\"))\n",
    "sentiment_tweets_dict1 = {key : val for key ,val in sentiment_tweets_dict.items() if val != None}"
   ]
  },
  {
   "cell_type": "markdown",
   "metadata": {},
   "source": [
    "Next the number of tweets for which the happiness score was succesfully computed needed to be calculated. This is done by substracting the number of tweets that could not be guessed as english/danish and the number of tweets with no sentiment attached from the total number of tweets for each user. "
   ]
  },
  {
   "cell_type": "code",
   "execution_count": 28,
   "metadata": {
    "collapsed": false
   },
   "outputs": [],
   "source": [
    "user_calculated_tweets = {}\n",
    "\n",
    "# Fill in the entries one by one\n",
    "for user in sentiment_tweets_dict1:\n",
    "    user_calculated_tweets[user.replace('.txt', '')] =  len(get_tweets(user)) - sentiment_tweets_dict1[user][1] - sentiment_tweets_dict1[user][2]"
   ]
  },
  {
   "cell_type": "markdown",
   "metadata": {},
   "source": [
    "Finally the dictionary is sorted and only the users that have more than 50 tweets for which the hapiness score was calculated are taken to use in building the final graph. The dictionary was pickled, for later use."
   ]
  },
  {
   "cell_type": "code",
   "execution_count": 29,
   "metadata": {
    "collapsed": false
   },
   "outputs": [],
   "source": [
    "sorted_dict = sorted(user_calculated_tweets.items(), key=operator.itemgetter(1), reverse=True)\n",
    "calculated_tweets_above50 = [item for item in sorted_dict if item[1]>50]\n",
    "\n",
    "#pickle the dict\n",
    "pickle.dump(calculated_tweets_above50, open(\"user_calculated_tweets.p\",\"wb\"))"
   ]
  },
  {
   "cell_type": "markdown",
   "metadata": {},
   "source": [
    "Based on this list of twitter users, the SO ids were then extracted, to be used as nodes labels "
   ]
  },
  {
   "cell_type": "code",
   "execution_count": 32,
   "metadata": {
    "collapsed": false
   },
   "outputs": [],
   "source": [
    "#get SO usernames based on twitter usernames\n",
    "nodes_twitter=[k for k,v in so_twitter_usernamedict.iteritems() for user in calculated_tweets_above50 if v==user[0]]\n",
    "\n",
    "#get SO ids based on SO usernames\n",
    "so_id_name_dict={v: k for k, v in dict(user_ids).iteritems()}\n",
    "\n",
    "#get the list of nodes\n",
    "nodes_ids = [so_id_name_dict.get(user) for user in nodes_twitter]"
   ]
  },
  {
   "cell_type": "markdown",
   "metadata": {},
   "source": [
    "For the edges, not all tags were taken either. Instead, we were interested in the programming languages a user is associated to, in order to be able to make asumptions about the correlation between happiness scores and the usage of a language. At the same time, this choice offers an further insight on the different programming languages usage and their popularity among Danish users.\n",
    "\n",
    "A list of programming languages was needed, to compare against the tags a user has. The intuitive idea was to get the Wikipedia List of Programming Languages (https://en.wikipedia.org/wiki/List_of_programming_languages). However, this list contains 600+ programming languages, some of which are not even in use (anymore). \n",
    "\n",
    "The approach taken intead was to create a list of programming languages that would contain the relevant ones for the problem. The list is based on two things:\n",
    "- The need to identify the most important programming languages. Therefore the programming languges listed in the lists bellow were considered: \n",
    "    - the most popular technologies of the 2016 Stackoverflow developer survey https://stackoverflow.com/research/developer-survey-2016#technology\n",
    "    - the top tags on Stackoverflow: http://data.stackexchange.com/stackoverflow/query/576672\n",
    "    - the most popular programming languages on Github http://githut.info/\n",
    "    - the TIOBE index https://en.wikipedia.org/wiki/TIOBE_index \n",
    "    - the RedMonk Programming Language Rankings: http://redmonk.com/sogrady/2016/07/20/language-rankings-6-16/\n",
    "\n",
    "- The need to identify the ones more relevant for the network of danish programmers. The top 100 popular tags in the Danish Stackoverflow were \"manually\" filtered for programming languages and important technologies (like Git, Wordpress - even if not programming languages, they are important technologies, widely used.)\n",
    "\n",
    "The final list, consisting of 92 technologies, is given bellow."
   ]
  },
  {
   "cell_type": "code",
   "execution_count": 19,
   "metadata": {
    "collapsed": true
   },
   "outputs": [],
   "source": [
    "technologies=['JavaScript','SQL','Java','C#','PHP','Python','C++','C','Node.js','AngularJS','Ruby',\n",
    "              'Objective-C','Delphi','TypeScript','Bash','Groovy','Lua', 'PowerShell', 'Drupal', 'Elixir', 'Fortran',\n",
    "              'Erlang','PL/SQL','HTML','CSS','PostgreSQL','Kotlin','D','Elm','Julia','Lisp','OCaml','Xamarin','Unity',\n",
    "              'Meteor','aurelia','Rust','Swift','F#','Scala','Go','Clojure','React','Haskell','Visual Basic','WordPress',\n",
    "              'Matlab','Sharepoint','CoffeeScript','LAMP','Cordova','Salesforce','Perl','Android','MongoDB', 'Arduino ',\n",
    "              'Raspberry Pi','iOS','JQuery', 'Git', 'MySQL','.NET', 'Ruby on Rails','R','JSON','Linux','ASP.NET','Spark',\n",
    "              'Cloud', 'Redis','Hadoop', 'Shell', 'SAS','ABAP','Dart','Scratch','COBOL','Transact-SQL','LabVIEW','Ada',\n",
    "              'Logo','Prolog','Scheme','MQL4','Apex','Awk','VHDL','Alice', 'AJAX', 'Excel','Azure','ActionScript']"
   ]
  },
  {
   "cell_type": "code",
   "execution_count": 33,
   "metadata": {
    "collapsed": false
   },
   "outputs": [],
   "source": [
    "#first lower case the list of techs\n",
    "techs = [x.lower() for x in technologies]\n",
    "user_tech_list=[]\n",
    "\n",
    "#create a dictionary where the key is a user and the value is the list of technologies tags the user has \n",
    "for user in nodes_ids:\n",
    "    f = open('tags/'+user+'.csv')\n",
    "    reader = csv.reader(f)\n",
    "    tech_tags=[row[0].lower() for row in reader if (row[0].lower() in techs)]    \n",
    "    tech_tuple=(user,tech_tags)\n",
    "    user_tech_list.append(tech_tuple)\n",
    "users_languages_dict=dict(user_tech_list)"
   ]
  },
  {
   "cell_type": "code",
   "execution_count": 34,
   "metadata": {
    "collapsed": true
   },
   "outputs": [],
   "source": [
    "#create a dictionary where the key is a language and the value is a list of users having the language tag\n",
    "user_dicts=[]\n",
    "for tech in techs:\n",
    "    user_list=[user for user,language_list in users_languages_dict.items() if tech in language_list]\n",
    "    user_dict=(tech,user_list)\n",
    "    user_dicts.append(user_dict)\n",
    "language_users_dict = dict(user_dicts)"
   ]
  },
  {
   "cell_type": "code",
   "execution_count": 35,
   "metadata": {
    "collapsed": false
   },
   "outputs": [],
   "source": [
    "#creating the graph:\n",
    "G_users=nx.Graph()\n",
    "\n",
    "#adding nodes:\n",
    "for user in nodes_ids:\n",
    "    G_users.add_node(user)"
   ]
  },
  {
   "cell_type": "markdown",
   "metadata": {},
   "source": [
    "As with the previous graph, to generate an edge between two users, we take the intersection of the sets of tech tags the users have"
   ]
  },
  {
   "cell_type": "code",
   "execution_count": 36,
   "metadata": {
    "collapsed": false
   },
   "outputs": [],
   "source": [
    "for user1 in nodes_ids:\n",
    "    for user2 in nodes_ids:\n",
    "        if user1==user2:\n",
    "            continue #we don't want self loops\n",
    "        else:\n",
    "            #check if there are common tags\n",
    "            if (len(set(users_languages_dict.get(user1)).intersection(users_languages_dict.get(user2)))): \n",
    "                #if so, add a path\n",
    "                G_users.add_path([user1,user2]) \n",
    "                #and set the edge data\n",
    "                G_users[user1][user2]['common_tags'] =  list(set(users_languages_dict.get(user1)).intersection(users_languages_dict.get(user2))) \n",
    "                #set edge weight                                             \n",
    "                G_users[user1][user2]['weight'] = len(G_users[user1][user2]['common_tags']) "
   ]
  },
  {
   "cell_type": "code",
   "execution_count": 70,
   "metadata": {
    "collapsed": false
   },
   "outputs": [
    {
     "name": "stdout",
     "output_type": "stream",
     "text": [
      "380\n",
      "30061\n"
     ]
    }
   ],
   "source": [
    "print G_users.number_of_nodes()\n",
    "print G_users.number_of_edges()"
   ]
  },
  {
   "cell_type": "code",
   "execution_count": 78,
   "metadata": {
    "collapsed": false
   },
   "outputs": [
    {
     "data": {
      "text/plain": [
       "303"
      ]
     },
     "execution_count": 78,
     "metadata": {},
     "output_type": "execute_result"
    }
   ],
   "source": [
    "max(deg_userGraph.values())"
   ]
  },
  {
   "cell_type": "markdown",
   "metadata": {},
   "source": [
    "Again, some important network measures are investigated. Firstly, the (simple, no weights considered) degree distribution is ploted below:"
   ]
  },
  {
   "cell_type": "code",
   "execution_count": 37,
   "metadata": {
    "collapsed": false
   },
   "outputs": [
    {
     "data": {
      "text/html": [
       "<iframe id=\"igraph\" scrolling=\"no\" style=\"border:none;\" seamless=\"seamless\" src=\"https://plot.ly/~alina.sgzan/26.embed\" height=\"525px\" width=\"100%\"></iframe>"
      ],
      "text/plain": [
       "<plotly.tools.PlotlyDisplay object>"
      ]
     },
     "execution_count": 37,
     "metadata": {},
     "output_type": "execute_result"
    }
   ],
   "source": [
    "#the array holding the degrees\n",
    "deg_userGraph =nx.degree(G_users)\n",
    "\n",
    "#defining the histograms\n",
    "hist = np.histogram(deg_userGraph.values(), bins=range(1,max(deg_userGraph.values())+1))\n",
    "\n",
    "#zoom in, taking the first degree values\n",
    "#hist = np.histogram(weight_deg.values(), bins=range(100))\n",
    "\n",
    "x = hist[1]\n",
    "y = hist[0]\n",
    "\n",
    "trace0 = go.Bar(\n",
    "    x = x,\n",
    "    y = y,\n",
    "    marker=dict(\n",
    "        color='rgb(49,130,189)'\n",
    "    )\n",
    ")\n",
    "\n",
    "data = [trace0]\n",
    "layout =go.Layout(\n",
    "    xaxis = dict(\n",
    "        tickangle=0,\n",
    "        title = \"Degree\"\n",
    "    ),\n",
    "    yaxis = dict(\n",
    "        title = \"Occurences\"\n",
    "    ),\n",
    "    barmode = 'group',\n",
    "    title = \"Users network degree distribution - without weights\",\n",
    ")\n",
    "\n",
    "fig = go.Figure(data=data, layout=layout)\n",
    "py.iplot(fig, filename='Degree distribution in users network')"
   ]
  },
  {
   "cell_type": "code",
   "execution_count": 38,
   "metadata": {
    "collapsed": false
   },
   "outputs": [
    {
     "data": {
      "text/html": [
       "<iframe id=\"igraph\" scrolling=\"no\" style=\"border:none;\" seamless=\"seamless\" src=\"https://plot.ly/~alina.sgzan/14.embed\" height=\"525px\" width=\"100%\"></iframe>"
      ],
      "text/plain": [
       "<plotly.tools.PlotlyDisplay object>"
      ]
     },
     "execution_count": 38,
     "metadata": {},
     "output_type": "execute_result"
    }
   ],
   "source": [
    "#the weighted degrees\n",
    "weight_deg_userGraph =nx.degree(G_users, weight='weight')\n",
    "\n",
    "#defining the histograms\n",
    "hist = np.histogram(weight_deg_userGraph.values(), bins=range(1,max(weight_deg_userGraph.values())+1))\n",
    "\n",
    "#zoom in, taking the first degree values\n",
    "#hist = np.histogram(weight_deg.values(), bins=range(100))\n",
    "\n",
    "x = hist[1]\n",
    "y = hist[0]\n",
    "\n",
    "trace0 = go.Bar(\n",
    "    x = x,\n",
    "    y = y,\n",
    "    marker=dict(\n",
    "        color='rgb(49,130,189)'\n",
    "    )\n",
    ")\n",
    "\n",
    "data = [trace0]\n",
    "layout =go.Layout(\n",
    "    xaxis = dict(\n",
    "        tickangle=0,\n",
    "        title = \"Degree\"\n",
    "    ),\n",
    "    yaxis = dict(\n",
    "        title = \"Occurences\"\n",
    "    ),\n",
    "    barmode = 'group',\n",
    "    title = \"Users network degree distribution - weights considered\",\n",
    ")\n",
    "\n",
    "fig = go.Figure(data=data, layout=layout)\n",
    "py.iplot(fig, filename='Degree distribution in tags network')"
   ]
  },
  {
   "cell_type": "markdown",
   "metadata": {},
   "source": [
    "Finally, in log-log scale: "
   ]
  },
  {
   "cell_type": "code",
   "execution_count": 39,
   "metadata": {
    "collapsed": false,
    "scrolled": false
   },
   "outputs": [
    {
     "data": {
      "text/html": [
       "<iframe id=\"igraph\" scrolling=\"no\" style=\"border:none;\" seamless=\"seamless\" src=\"https://plot.ly/~alina.sgzan/34.embed\" height=\"525px\" width=\"100%\"></iframe>"
      ],
      "text/plain": [
       "<plotly.tools.PlotlyDisplay object>"
      ]
     },
     "execution_count": 39,
     "metadata": {},
     "output_type": "execute_result"
    }
   ],
   "source": [
    "hist = np.histogram(deg_userGraph.values(), bins=range(1,max(deg_userGraph.values())+1))\n",
    "trace1 = go.Scatter(\n",
    "x = hist[1],\n",
    "y = hist[0],\n",
    "mode = 'markers',\n",
    "name = 'markers'\n",
    ")\n",
    "data = [trace1]\n",
    "layout = go.Layout(\n",
    "    xaxis=dict(\n",
    "        type='log',\n",
    "        autorange=True\n",
    "    ),\n",
    "    yaxis=dict(\n",
    "        type='log',\n",
    "        autorange=True\n",
    "    )\n",
    ")\n",
    "fig = go.Figure(data=data, layout=layout)\n",
    "py.iplot(fig)"
   ]
  },
  {
   "cell_type": "markdown",
   "metadata": {},
   "source": [
    "Looking at the degree distribution ploted above, both for simple and weighted degrees, no obvious pattern of the data points. Unlike the previous network degree distribution, here there is no power law or poisson indicator. The reason for this might be the nature of the network. The users do not necesarily link to other users trough the tags, the same way as tags does with users. Besides the tags linking users are only the programming language tags, which means that if all tags were used as links the distribution would be more similar to the previous graph.  "
   ]
  },
  {
   "cell_type": "markdown",
   "metadata": {},
   "source": [
    "To understand this network, it made sense to look at the eigen vector centrality and the betweenness centrality. In this graph a high eigenvector centrality would mean that the user is well connected to high degree nodes, which in this case would indicate that a user is connected to other users who uses a lot of the \"popular\" programming languages. This means that the sentiment of that user would indicate if you coding in the most popular languages makes you happy. The betweenness centrality would mean that you are coding in languages which are well connected to all the other languages. "
   ]
  },
  {
   "cell_type": "code",
   "execution_count": 84,
   "metadata": {
    "collapsed": false
   },
   "outputs": [
    {
     "name": "stdout",
     "output_type": "stream",
     "text": [
      "1009465: 0.00594928661685\n",
      "13627: 0.00557522043555\n",
      "79061: 0.00497462569112\n",
      "1841839: 0.00390699452293\n",
      "33213: 0.00368412280313\n",
      "190822: 0.00352371084564\n",
      "519836: 0.00336994820151\n",
      "126014: 0.0031362499367\n",
      "218589: 0.00306769144912\n",
      "226394: 0.00297223948547\n"
     ]
    }
   ],
   "source": [
    "btw_users=nx.betweenness_centrality(G_users)\n",
    "for key, value in sorted(btw_users.iteritems(), key=lambda (k,v): (v,k), reverse=True)[:10]:\n",
    "    print \"%s: %s\" % (key, value)"
   ]
  },
  {
   "cell_type": "code",
   "execution_count": 85,
   "metadata": {
    "collapsed": false
   },
   "outputs": [
    {
     "name": "stdout",
     "output_type": "stream",
     "text": [
      "13627: 0.144284085389\n",
      "218589: 0.139064556326\n",
      "79061: 0.136987682717\n",
      "28004: 0.135569554758\n",
      "1841839: 0.13378318273\n",
      "33213: 0.126488206261\n",
      "519836: 0.120170562138\n",
      "561545: 0.117452562884\n",
      "871985: 0.115998759654\n",
      "170196: 0.115273222767\n"
     ]
    }
   ],
   "source": [
    "eig_users = nx.eigenvector_centrality(G_users)\n",
    "for key, value in sorted(eig_users.iteritems(), key = lambda (k,v): (v,k), reverse = True)[:10]:\n",
    "    print \"%s: %s\" % (key, value)"
   ]
  },
  {
   "cell_type": "markdown",
   "metadata": {},
   "source": [
    "In respects to assortativity, the network is disassortative, meaning that high degree nodes tend to connect to low degree nodes. This could be explained by the fact that high degree nodes are users who know a lot of languages and contribute to many answers, including answering low degree nodes questions. "
   ]
  },
  {
   "cell_type": "code",
   "execution_count": 86,
   "metadata": {
    "collapsed": false,
    "scrolled": true
   },
   "outputs": [
    {
     "name": "stdout",
     "output_type": "stream",
     "text": [
      "-0.182284296245\n"
     ]
    }
   ],
   "source": [
    "assort = nx.degree_assortativity_coefficient(G_users)\n",
    "print assort"
   ]
  },
  {
   "cell_type": "code",
   "execution_count": 40,
   "metadata": {
    "collapsed": false
   },
   "outputs": [
    {
     "name": "stdout",
     "output_type": "stream",
     "text": [
      "0.077808312999\n"
     ]
    }
   ],
   "source": [
    "partition_users = community.community_louvain.best_partition(G_users)\n",
    "modularity_users = community.community_louvain.modularity(partition_users,G_users)\n",
    "print modularity_users"
   ]
  },
  {
   "cell_type": "code",
   "execution_count": 42,
   "metadata": {
    "collapsed": false,
    "scrolled": true
   },
   "outputs": [
    {
     "name": "stdout",
     "output_type": "stream",
     "text": [
      "1  users in community. :  0\n",
      "121  users in community. :  1\n",
      "1  users in community. :  2\n",
      "93  users in community. :  3\n",
      "1  users in community. :  4\n",
      "1  users in community. :  5\n",
      "1  users in community. :  6\n",
      "93  users in community. :  7\n",
      "1  users in community. :  8\n",
      "1  users in community. :  9\n",
      "1  users in community. :  10\n",
      "1  users in community. :  11\n",
      "1  users in community. :  12\n",
      "1  users in community. :  13\n",
      "1  users in community. :  14\n",
      "1  users in community. :  15\n",
      "1  users in community. :  16\n",
      "1  users in community. :  17\n",
      "1  users in community. :  18\n",
      "1  users in community. :  19\n",
      "1  users in community. :  20\n",
      "1  users in community. :  21\n",
      "1  users in community. :  22\n",
      "1  users in community. :  23\n",
      "1  users in community. :  24\n",
      "1  users in community. :  25\n",
      "1  users in community. :  26\n",
      "1  users in community. :  27\n",
      "1  users in community. :  28\n",
      "1  users in community. :  29\n",
      "1  users in community. :  30\n",
      "1  users in community. :  31\n",
      "1  users in community. :  32\n",
      "1  users in community. :  33\n",
      "1  users in community. :  34\n",
      "1  users in community. :  35\n",
      "1  users in community. :  36\n",
      "1  users in community. :  37\n",
      "1  users in community. :  38\n",
      "1  users in community. :  39\n",
      "1  users in community. :  40\n",
      "1  users in community. :  41\n",
      "1  users in community. :  42\n",
      "1  users in community. :  43\n",
      "1  users in community. :  44\n",
      "1  users in community. :  45\n",
      "1  users in community. :  46\n",
      "1  users in community. :  47\n",
      "1  users in community. :  48\n",
      "1  users in community. :  49\n",
      "1  users in community. :  50\n",
      "1  users in community. :  51\n",
      "1  users in community. :  52\n",
      "1  users in community. :  53\n",
      "1  users in community. :  54\n",
      "1  users in community. :  55\n",
      "1  users in community. :  56\n",
      "1  users in community. :  57\n",
      "1  users in community. :  58\n",
      "1  users in community. :  59\n",
      "1  users in community. :  60\n",
      "1  users in community. :  61\n",
      "1  users in community. :  62\n",
      "1  users in community. :  63\n",
      "1  users in community. :  64\n",
      "1  users in community. :  65\n",
      "1  users in community. :  66\n",
      "1  users in community. :  67\n",
      "1  users in community. :  68\n",
      "1  users in community. :  69\n",
      "1  users in community. :  70\n",
      "1  users in community. :  71\n",
      "1  users in community. :  72\n",
      "1  users in community. :  73\n",
      "1  users in community. :  74\n",
      "1  users in community. :  75\n"
     ]
    }
   ],
   "source": [
    "communities_users=defaultdict(list)\n",
    "for key, value in sorted(partition_users.iteritems(), key=lambda (k,v): (v,k), reverse=True):\n",
    "    communities_users[value].append(key)\n",
    "\n",
    "for key in communities_users:\n",
    "    print len(communities_users[key]),\" users in community. : \",key\n",
    "    \n",
    "    #uncode the code bellow to print the actual communities\n",
    "    #print communities_users[key]"
   ]
  },
  {
   "cell_type": "markdown",
   "metadata": {},
   "source": [
    "An example community is shown below:"
   ]
  },
  {
   "cell_type": "code",
   "execution_count": 45,
   "metadata": {
    "collapsed": false
   },
   "outputs": [
    {
     "name": "stdout",
     "output_type": "stream",
     "text": [
      "['95176', '936408', '920464', '874548', '8418', '796559', '79061', '790474', '78336', '753001', '746764', '705741', '705602', '6736063', '655548', '652546', '642148', '6262429', '6120097', '5910058', '5780545', '564779', '5219154', '5110381', '499156', '4961087', '4882647', '4849798', '4768618', '4636578', '4600911', '4499437', '415025', '4145708', '3945914', '3878063', '3592403', '3535616', '348946', '342437', '33213', '3104775', '2972', '291889', '2912892', '2759841', '2757005', '2722789', '266541', '2501509', '246234', '24218', '2412477', '2328637', '2317519', '2308514', '226394', '218589', '2181676', '202538', '1941038', '190822', '190599', '1841839', '1840269', '1802429', '1703802', '1700737', '1699360', '1572847', '1569350', '1514022', '1471464', '144433', '143686', '1403403', '1389357', '13627', '1339323', '13372', '1335765', '1315347', '1309868', '1290601', '1242637', '1161584', '1161518', '1118969', '1103925', '1064689', '1046515', '1017985', '1009465']\n"
     ]
    }
   ],
   "source": [
    "community3= communities_users[3]\n",
    "print community3"
   ]
  },
  {
   "cell_type": "code",
   "execution_count": 117,
   "metadata": {
    "collapsed": true
   },
   "outputs": [],
   "source": [
    "#function to retrieve user names based on user nr. \n",
    "def get_username(number):                \n",
    "    with open( \"QueryResults.csv\", \"rb\") as query_file:\n",
    "        reader = csv.DictReader(query_file)\n",
    "        for row in reader:\n",
    "            u_name = row ['DisplayName']\n",
    "            u_number = row['User Link']\n",
    "            if u_number == (number):\n",
    "                name = u_name\n",
    "                return  name\n"
   ]
  },
  {
   "cell_type": "code",
   "execution_count": 118,
   "metadata": {
    "collapsed": false
   },
   "outputs": [],
   "source": [
    "#function to retrieve tweet based on user name\n",
    "def get_tweetname(name):\n",
    "    with open( \"twitterfile.csv\", \"rb\") as twitter_file:\n",
    "        reader = csv.DictReader(twitter_file)\n",
    "        for row in reader:\n",
    "            u_name_twitter = row['user'] \n",
    "            #print u_name_twitter\n",
    "            raw_u_twitter = row['link']\n",
    "            u_twitter =raw_u_twitter.rsplit('/', 1)[-1]\n",
    "            \n",
    "            if u_name_twitter == name:\n",
    "                    return u_twitter + '.txt'"
   ]
  },
  {
   "cell_type": "code",
   "execution_count": 119,
   "metadata": {
    "collapsed": true
   },
   "outputs": [],
   "source": [
    "#getting happiness dict\n",
    "happiness_raw = pickle.load(open(\"happiness_overall.p\", \"rb\"))\n",
    "happiness={key : val for key ,val in happiness_raw.items() if val != None}"
   ]
  },
  {
   "cell_type": "code",
   "execution_count": 120,
   "metadata": {
    "collapsed": false
   },
   "outputs": [],
   "source": [
    "#get dict that contains user id as key and happiness score as value\n",
    "dict_score_nr = {user: happiness[get_tweetname(get_username(user))] for user in nodes_ids }"
   ]
  },
  {
   "cell_type": "code",
   "execution_count": 100,
   "metadata": {
    "collapsed": false
   },
   "outputs": [
    {
     "data": {
      "text/plain": [
       "[('5303893', -0.33),\n",
       " ('4261813', 0.27),\n",
       " ('357130', 1.05),\n",
       " ('3535616', -0.77),\n",
       " ('1802429', 0.7),\n",
       " ('1522942', 1.47),\n",
       " ('1118969', 0.49),\n",
       " ('3263450', -0.02),\n",
       " ('202538', 1.36),\n",
       " ('1155902', 0.68)]"
      ]
     },
     "execution_count": 100,
     "metadata": {},
     "output_type": "execute_result"
    }
   ],
   "source": [
    "#printing an example of the new dict\n",
    "dict_score_nr.items()[:10]"
   ]
  },
  {
   "cell_type": "markdown",
   "metadata": {},
   "source": [
    "Now that the a dictionary is created with user id and score, it is time to look at the happiness and how ot affects the user. As shown below there is not really any concentration of happiness communities as such. The three communities generated previously all have a wide spread of happiness. So happiness does not define the communities. However they all have the same average happiness, so maybe programmers needs other programmers with contradictive sentiment around"
   ]
  },
  {
   "cell_type": "code",
   "execution_count": 125,
   "metadata": {
    "collapsed": false
   },
   "outputs": [
    {
     "name": "stdout",
     "output_type": "stream",
     "text": [
      "Top 10 highest rated user: [2.0, 1.94, 1.82, 1.47, 1.41, 1.4, 1.4, 1.4, 1.38, 1.38]\n",
      "Top 10 lowest rated user: [-1.09, -1.07, -0.95, -0.77, -0.56, -0.18, -0.17, -0.06, 0.06, 0.13]\n",
      "Average sentiment in community 3: 0.705913978495\n"
     ]
    }
   ],
   "source": [
    "#getting the top  10 lowest and highest sentimentscore within community 3\n",
    "print 'Top 10 highest rated user:', sorted([dict_score_nr[k] for k in community3 if k in dict_score_nr], reverse= True)[:10]\n",
    "print 'Top 10 lowest rated user:',sorted([dict_score_nr[k] for k in community3 if k in dict_score_nr])[:10]\n",
    "print 'Average sentiment in community 3:', np.mean([dict_score_nr[k] for k in community3 if k in dict_score_nr])"
   ]
  },
  {
   "cell_type": "code",
   "execution_count": 123,
   "metadata": {
    "collapsed": false,
    "scrolled": true
   },
   "outputs": [
    {
     "name": "stdout",
     "output_type": "stream",
     "text": [
      "Top 10 highest rated user: [1.94, 1.93, 1.93, 1.58, 1.49, 1.48, 1.42, 1.41, 1.41, 1.38]\n",
      "Top 10 lowest rated user: [-1.1, -1.03, -0.59, -0.17, -0.12, -0.08, -0.08, 0.04, 0.22, 0.32]\n",
      "Average sentiment in community 7: 0.780860215054\n"
     ]
    }
   ],
   "source": [
    "#getting the top  10 lowest and highest sentimentscore within community 7\n",
    "\n",
    "community7 = communities_users[7]\n",
    "print 'Top 10 highest rated user:',sorted([dict_score_nr[k] for k in community7 if k in dict_score_nr], reverse= True)[:10]\n",
    "print 'Top 10 lowest rated user:',sorted([dict_score_nr[k] for k in community7 if k in dict_score_nr])[:10]\n",
    "print 'Average sentiment in community 7:', np.mean([dict_score_nr[k] for k in community7 if k in dict_score_nr])"
   ]
  },
  {
   "cell_type": "code",
   "execution_count": 124,
   "metadata": {
    "collapsed": false
   },
   "outputs": [
    {
     "name": "stdout",
     "output_type": "stream",
     "text": [
      "Top 10 highest rated user: [1.71, 1.47, 1.44, 1.43, 1.43, 1.36, 1.33, 1.31, 1.3, 1.29]\n",
      "Top 10 lowest rated user: [-1.16, -1.12, -0.57, -0.55, -0.54, -0.37, -0.2, -0.02, -0.0, 0.01]\n",
      "Average sentiment in community 1: 0.734710743802\n"
     ]
    }
   ],
   "source": [
    "#getting the top  10 lowest and highest sentimentscore within community 1\n",
    "community1 = communities_users[1]\n",
    "print 'Top 10 highest rated user:',sorted([dict_score_nr[k] for k in community1 if k in dict_score_nr], reverse= True)[:10]\n",
    "print 'Top 10 lowest rated user:',sorted([dict_score_nr[k] for k in community1 if k in dict_score_nr])[:10]\n",
    "print 'Average sentiment in community 1:', np.mean([dict_score_nr[k] for k in community1 if k in dict_score_nr])"
   ]
  },
  {
   "cell_type": "markdown",
   "metadata": {},
   "source": [
    "To understand what programming languages could make you happy, or more specifically to see if any specific language makes you happy, the top Betweenness and eigen vector centrality tags are used as a searchword to get user with that tag and then get teh average score of that group of users. "
   ]
  },
  {
   "cell_type": "code",
   "execution_count": 134,
   "metadata": {
    "collapsed": false,
    "scrolled": true
   },
   "outputs": [
    {
     "name": "stdout",
     "output_type": "stream",
     "text": [
      "programming javascript makes you this happy: 0.79246031746\n",
      "programming java makes you this happy: 0.7375\n",
      "programming c# makes you this happy: 0.716129032258\n",
      "programming php makes you this happy: 0.718860759494\n",
      "programming android makes you this happy: 0.8512\n",
      "programming python makes you this happy: 0.738\n",
      "programming html makes you this happy: 0.69\n",
      "programming ios makes you this happy: 0.756304347826\n",
      "programming mysql makes you this happy: 0.799142857143\n",
      "programming jquery makes you this happy: 0.758860759494\n",
      "programming css makes you this happy: 0.714385964912\n",
      "programming asp.net makes you this happy: 0.867441860465\n",
      "programming .net makes you this happy: 0.705090909091\n"
     ]
    }
   ],
   "source": [
    "top_tags_users_dict[\"java\"]\n",
    "mean_javascript = np.mean([dict_score_nr[k] for k in top_tags_users_dict[\"javascript\"] if k in dict_score_nr])\n",
    "print 'programming javascript makes you this happy:', mean_javascript\n",
    "mean_java = np.mean([dict_score_nr[k] for k in top_tags_users_dict[\"java\"] if k in dict_score_nr])\n",
    "print 'programming java makes you this happy:', mean_java\n",
    "mean_c= np.mean([dict_score_nr[k] for k in top_tags_users_dict[\"c#\"] if k in dict_score_nr])\n",
    "print 'programming c# makes you this happy:', mean_c\n",
    "mean_php = np.mean([dict_score_nr[k] for k in top_tags_users_dict[\"php\"] if k in dict_score_nr])\n",
    "print 'programming php makes you this happy:', mean_php\n",
    "mean_android = np.mean([dict_score_nr[k] for k in top_tags_users_dict[\"android\"] if k in dict_score_nr])\n",
    "print 'programming android makes you this happy:', mean_android\n",
    "mean_python = np.mean([dict_score_nr[k] for k in top_tags_users_dict[\"python\"] if k in dict_score_nr])\n",
    "print 'programming python makes you this happy:', mean_python\n",
    "mean_html = np.mean([dict_score_nr[k] for k in top_tags_users_dict[\"html\"] if k in dict_score_nr])\n",
    "print 'programming html makes you this happy:', mean_html\n",
    "mean_ios = np.mean([dict_score_nr[k] for k in top_tags_users_dict[\"ios\"] if k in dict_score_nr])\n",
    "print 'programming ios makes you this happy:', mean_ios\n",
    "mean_mysql = np.mean([dict_score_nr[k] for k in top_tags_users_dict[\"mysql\"] if k in dict_score_nr])\n",
    "print 'programming mysql makes you this happy:', mean_mysql\n",
    "mean_jquery = np.mean([dict_score_nr[k] for k in top_tags_users_dict[\"jquery\"] if k in dict_score_nr])\n",
    "print 'programming jquery makes you this happy:', mean_jquery\n",
    "mean_css = np.mean([dict_score_nr[k] for k in top_tags_users_dict[\"css\"] if k in dict_score_nr])\n",
    "print 'programming css makes you this happy:', mean_css\n",
    "mean_asp = np.mean([dict_score_nr[k] for k in top_tags_users_dict[\"asp.net\"] if k in dict_score_nr])\n",
    "print 'programming asp.net makes you this happy:', mean_asp\n",
    "mean_net = np.mean([dict_score_nr[k] for k in top_tags_users_dict[\".net\"] if k in dict_score_nr])\n",
    "print 'programming .net makes you this happy:', mean_net\n"
   ]
  },
  {
   "cell_type": "code",
   "execution_count": null,
   "metadata": {
    "collapsed": true
   },
   "outputs": [],
   "source": [
    "# get the degrees\n",
    "degrees = set(nx.degree(G_users,'weight').values())\n",
    "#mapping = dict(zip(sorted(degrees),count()))\n",
    "nodes = G_users.nodes()\n",
    "colors = [G_users.degree(n,weight='weight') for n in nodes]\n",
    "#[mapping[G_tags.degree(n,weight='weight')] for n in nodes]\n",
    "\n",
    "# drawing nodes and edges separately so we can capture collection for colobar\n",
    "#pos = nx.spring_layout(G_tags)\n",
    "pos=graphviz_layout(G_users,prog=\"dot\")\n",
    "nx.draw_networkx_edges(G_users, pos, alpha=0.2)\n",
    "nx.draw_networkx_nodes(G_users, pos, nodelist=nodes, node_color=colors, \n",
    "                            with_labels=False, node_size=50, cmap=plt.cm.jet)\n",
    "plt.figure(figsize=(10,10))\n",
    "plt.colorbar(colors)\n",
    "#plt.axis('off')\n",
    "plt.show()"
   ]
  },
  {
   "cell_type": "code",
   "execution_count": 170,
   "metadata": {
    "collapsed": false
   },
   "outputs": [],
   "source": [
    "dict_user_answer_rep={}\n",
    "dict_user_answer={}\n",
    "with io.open(\"users_answers.csv\") as answers:\n",
    "    reader = csv.DictReader(answers)\n",
    "    for row in reader:\n",
    "        #print row['User Link']\n",
    "        dict_user_answer_rep[row['User Link']]= row['Reputation'] \n",
    "        dict_user_answer[row['User Link']] = row['Total Answers'] \n",
    "  \n",
    "dict_answer = {k:v for k,v in dict_user_answer.iteritems() if k in dict_score_nr.keys()}\n",
    "\n",
    "dict_reputation = {k:v for k,v in dict_user_answer_rep.iteritems() if k in dict_score_nr.keys()}\n",
    "\n",
    "from collections import defaultdict\n",
    "\n",
    "answer_happy = defaultdict(list)\n",
    "for a, b in zip(dict_score_nr.items(), dict_answer.items()):\n",
    "    answer_happy[a[1]] =b[1]\n",
    "    \n",
    "\n",
    "rep_happy = defaultdict(list)\n",
    "for a, b in zip(dict_score_nr.items(), dict_reputation.items()):\n",
    "    rep_happy[b[1]]=a[1]  "
   ]
  },
  {
   "cell_type": "code",
   "execution_count": 168,
   "metadata": {
    "collapsed": false,
    "scrolled": true
   },
   "outputs": [
    {
     "data": {
      "text/plain": [
       "<matplotlib.text.Text at 0x1221327d0>"
      ]
     },
     "execution_count": 168,
     "metadata": {},
     "output_type": "execute_result"
    },
    {
     "data": {
      "image/png": "[encoded data removed]",
      "text/plain": [
       "<matplotlib.figure.Figure at 0x1200b1c10>"
      ]
     },
     "metadata": {},
     "output_type": "display_data"
    }
   ],
   "source": [
    "plt.figure(figsize=(20, 5), dpi=80)\n",
    "x = answer_happy.values()\n",
    "y = answer_happy.keys()\n",
    "plt.plot(x, y, 'o',alpha=0.5)\n",
    "#plt.xlim( 0,3500 )\n",
    "plt.title('Sentiment score vs amount of answers')\n",
    "plt.ylabel('Happiness')\n",
    "plt.xlabel('Amount of answers')"
   ]
  },
  {
   "cell_type": "code",
   "execution_count": 169,
   "metadata": {
    "collapsed": false
   },
   "outputs": [
    {
     "data": {
      "text/plain": [
       "<matplotlib.text.Text at 0x1212314d0>"
      ]
     },
     "execution_count": 169,
     "metadata": {},
     "output_type": "execute_result"
    },
    {
     "data": {
      "image/png": "[encoded data removed]",
      "text/plain": [
       "<matplotlib.figure.Figure at 0x12019d290>"
      ]
     },
     "metadata": {},
     "output_type": "display_data"
    }
   ],
   "source": [
    "plt.figure(figsize=(20, 5), dpi=80)\n",
    "x = rep_happy.keys()\n",
    "y = rep_happy.values()\n",
    "plt.plot(x, y, 'o',alpha=0.5)\n",
    "#plt.xlim( 0,3500 )\n",
    "plt.title('Sentiment score vs Reputation')\n",
    "plt.ylabel('Happiness')\n",
    "plt.xlabel('Reputation')"
   ]
  },
  {
   "cell_type": "markdown",
   "metadata": {},
   "source": [
    "#### The overall results"
   ]
  },
  {
   "cell_type": "markdown",
   "metadata": {
    "collapsed": true
   },
   "source": [
    "The hypothesis that was stated in the beginning was:\n",
    "\n",
    "1. People that code in clojure, Scala, Ruby or JavaScript are the most happy [5]\n",
    "2. Caring about others and helping makes people happy (in SO it could be the people who answer most)\n",
    "3. Being acknowledged, doing something meaningful (Like winning batches and reputation in SO) makes people happy\n",
    "4. Money makes people happy\n",
    "\n",
    "To answer the first hypothesis, it actually told us that asp.net makes you the most happy, or at least the people who are having tag and a twitter in Denmark is on average more happy then the other top tags based on betweenness and eigenvector centrality. Javascript is not the happiest, but is certantly not the worst off either. \n",
    "In regards to the second Hypothesis, at least on SO it does not necessarily make you more happy to answer more questions(aka helping others). However it could also say something about people who do not really have a life and use all their time on answering questions on SO.\n",
    "Being aknowledged in the programming online community apparently does not affect happiness. Both of these two hypothesis are rejected, since there is not really any correlation between happiness score and anwers given/reputation. \n",
    "\n",
    "When looking online what programming skills that earns most money, it is stated in [15] that the ones who earn the most, here only including the ones from the list above: nr. 3 is python with an average salary of \n",
    "$104,228, then java, javascrip, C#, sql is on nr. 12 and PHP is nr. 13.  Actually it is visible that javascript, java and mysql are in the top of happiness ranking. Of course it would be very assumtious to say that it defines that money make programmers happy, but a small tendency can be seen. Of course more concrete data would need to be processed before it could be stated clearly. This goes for all the hypothesis. \n"
   ]
  },
  {
   "cell_type": "markdown",
   "metadata": {},
   "source": [
    "***"
   ]
  },
  {
   "cell_type": "markdown",
   "metadata": {},
   "source": [
    "<h2 align=\"center\">Discussion</h2> \n",
    "\n"
   ]
  },
  {
   "cell_type": "markdown",
   "metadata": {
    "collapsed": true
   },
   "source": [
    "Doing a bigger project and having more of a say in what it is about was quite interesting, both in terms of all the small decisions we had to make and the coordination of getting tweets, calculating sentiment and doing the network analysis. It was challenging, but fun. There were a lot of things we wanted to add all the time, but we also had to keep the timeframe in mind. \n",
    "\n",
    "#### Sentiment analysis \n",
    "First of all, we should have probably worked with only english speaking countries, to ensure tweets are in English and so a lot of the trouble of getting sentiment would have been fixed. Then the function calculating function could be used for a user's entire tweet history instead of splitting up the tweets. On that note we could also simply have gone with the AFINN score and not care about the fact that the S1 wordlist had more words, and then simply use the library for both languages. However doing it the way that we did gave us a much better understanding of the idea behind sentiment analysis and the underlying diversity of the real world data.  Another element that could have been worked more on was the natural language processing with nltk. The library offers so many possibilities, but unfortunately due to time restrictions we could not play around with it a lot. A relevant observation in terms of sentiment is that even though we have a lexicon created by a danish researcher, Danish is a complex language. Not as such in the words used, but more in terms of sarcasm and irony, which is quite common; these could give false positives in terms of sentiment score. This is however a hard nut to crack, because it really depends on the mood and the combination of words. We would also assume that other countries would have a more moving sentiment than the Danish. Danish people are just never extremely happy or extremely sad in their wording. An element that we played around with but did not include was the smiley word list from AFINN; it would have been interesting to see what it would have done with the scores if it was added on top of the language sentiment. We were a bit worried about having many troubles with encoding, especially since we deal with Danish letters. Following the guidelines in [ http://nedbatchelder.com/text/unipain.html ] (see unicode sandwich) made it surprisingly painless though.  Even though we could have added more  stats, exploration and graphs , we all in all  feel that we got a good understanding of sentiment analysis, and are still up for playing around with it another time.\n",
    " "
   ]
  },
  {
   "cell_type": "markdown",
   "metadata": {},
   "source": [
    "#### Network analysis"
   ]
  },
  {
   "cell_type": "markdown",
   "metadata": {},
   "source": [
    "The way we approached te problem semed like a proper way and we got a lot of information out of our data. We could have made other networks and compared the different ones, but just getting the right networks that would actually give us information was harder tha expected, because the tags and users were so intertwined with the hypothesis that we wanted to investigate. But we did look at many different elements for each network that actually gave us some indication of happiness as aiming for. If we were to coninue on this project we would also have included elements from github. This would give a larger reference frame, add more details and would probarbly expand the size of the network. We looked briefly into the API of github and found it quite easy to work with. Th users on SO are most often also in Github.  A small example code of SO/Github is shown below. "
   ]
  },
  {
   "cell_type": "code",
   "execution_count": 19,
   "metadata": {
    "collapsed": false
   },
   "outputs": [
    {
     "name": "stdout",
     "output_type": "stream",
     "text": [
      "Git link found: https://github.com/AutoFixture/AutoFixture\n",
      "Git link found: https://github.com/ploeh\n"
     ]
    }
   ],
   "source": [
    "#Finding the github account for a test user (126014)\n",
    "url = 'http://stackoverflow.com/users/126014'\n",
    "data = urllib2.urlopen(url)\n",
    "soup = BeautifulSoup(data, 'lxml')\n",
    "\n",
    "for a in soup.find_all('a', href=True):\n",
    "    if 'github' in a['href']:\n",
    "        print \"Git link found:\", a['href']"
   ]
  },
  {
   "cell_type": "code",
   "execution_count": 20,
   "metadata": {
    "collapsed": true
   },
   "outputs": [],
   "source": [
    "#retrieve the repos the user has on github\n",
    "r = requests.get('https://api.github.com/users/ploeh/repos')\n",
    "data=json.loads(r.content)\n",
    "\n",
    "#get a list of the repos programming languages \n",
    "git_prog_langs = list(set(d['language'] for d in data))"
   ]
  },
  {
   "cell_type": "markdown",
   "metadata": {},
   "source": [
    "Besides Github, a lot of other sites , info and communities could have been added to the project to give it a broader perspective as well as narrowing down the parameters that are important for the specific user in terms of happiness. "
   ]
  },
  {
   "cell_type": "markdown",
   "metadata": {},
   "source": [
    "#### Conclusion\n",
    "Even though there could have been improvements here and there in both code, structure and choices, the project was interesting, taught us a lot and gave a small look into what the network theory and its related tools can be used for. "
   ]
  },
  {
   "cell_type": "markdown",
   "metadata": {},
   "source": [
    "***"
   ]
  },
  {
   "cell_type": "markdown",
   "metadata": {
    "collapsed": true
   },
   "source": [
    "### References\n",
    "\n",
    "\n",
    "[1]Stack Overflow (2016), \"About\", http://stackoverflow.com/company/about , visited 12/11-2016\n",
    "\n",
    "[2]Lyubomirsky, Sonja(2007) \"The How of Happiness\", positive psychology researcher (http://greatergood.berkeley.edu/topic/happiness/definition), visited 11/11-2016\n",
    "\n",
    "[3]Joyfulldays, \"What makes people happy, the top ten list\" http://www.joyfuldays.com/what-makes-people-happy-the-top-10-list/ , visited 13/11-2016\n",
    "\n",
    "[4]Bustle, What really makes a person happy\",  https://www.bustle.com/articles/70762-what-really-makes-a-person-happy-9-things-science-knows-about-what-really-keeps-us-content , visited 13/11-2016\n",
    "\n",
    "[5] IT world, \"Clojure developers are the happiest developers\" http://www.itworld.com/article/2693998/big-data/clojure-developers-are-the-happiest-developers.html , visited 13/11-2016\n",
    "\n",
    "[6]StackExchange, \"Sites\", http://stackexchange.com/sites , visited 20/11- 2016\n",
    "\n",
    "[7]StackEcxchange, \"Help\", http://data.stackexchange.com/help , visited 20/11- 2016\n",
    "\n",
    "[8]StackExchange, \"FAQ\" http://data.stackexchange.com/help#faq, visted 20/11- 2016\n",
    "\n",
    "[9] Google developers,\"Python Regular Expressions\" , https://developers.google.com/edu/python/regular-expressions visited 1/12-2016\n",
    "[10] Spirit, \"guess_language – Guess the natural language of a text\", https://bitbucket.org/spirit/guess_language, visted 28/11-2016\n",
    "\n",
    "[11]  Dodds, p. , Kameron, H. , Kloumann, I. , Bliss, C. , Danforth, C,(2011)  \"Temporal Patterns of Happiness and Information in a Global Social Network: Hedonometrics and Twitter\", http://journals.plos.org/plosone/article?id=10.1371/journal.pone.0026752 visited 1/12-2016\n",
    "\n",
    "[12]Nielsen, F. , \"A new ANEW: evaluation of a word list for sentiment analysis in microblogs\", Proceedings of the ESWC2011 Workshop on 'Making Sense of Microposts': Big things come in small packages. Volume 718 in CEUR Workshop Proceedings: 93-98. 2011 May. Matthew Rowe, Milan Stankovic, Aba-Sah Dadzie, Mariann Hardey (editors)\n",
    "\n",
    "[13]Lehmann, S. (2016) http://nbviewer.jupyter.org/github/suneman/socialgraphs2016/blob/master/lectures/Week5.ipynb \n",
    "\n",
    "[14]Python Louvain-algorithm implementation : http://perso.crans.org/aynaud/communities/\n",
    "\n",
    "[15]Rasmussen, \"Best programming languages based on earnings and opportunities\" http://www.rasmussen.edu/degrees/technology/blog/best-programming-languages-based-on-earnings-and-opportunities/ visited 7/12 2016"
   ]
  },
  {
   "cell_type": "code",
   "execution_count": null,
   "metadata": {
    "collapsed": true
   },
   "outputs": [],
   "source": []
  }
 ],
 "metadata": {
  "anaconda-cloud": {},
  "kernelspec": {
   "display_name": "Python [default]",
   "language": "python",
   "name": "python2"
  },
  "language_info": {
   "codemirror_mode": {
    "name": "ipython",
    "version": 2
   },
   "file_extension": ".py",
   "mimetype": "text/x-python",
   "name": "python",
   "nbconvert_exporter": "python",
   "pygments_lexer": "ipython2",
   "version": "2.7.12"
  }
 },
 "nbformat": 4,
 "nbformat_minor": 0
}
